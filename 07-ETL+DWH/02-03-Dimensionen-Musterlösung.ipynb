{
 "cells": [
  {
   "cell_type": "markdown",
   "metadata": {
    "id": "SvxhKbdnO7j3"
   },
   "source": [
    "# 02-03 Dimensionen Musterlösung\n",
    "\n",
    "## Hinweise zur Übung\n",
    "\n",
    "In der Demo wurde gezeigt, wie eine einfache (flache) und eine etwas komplexere (hiearchische) Dimensionstabelle aus Quelldaten im Stagingbereich erzeugt und in die Reporting-Datenbank geladen werden können.\n",
    "\n",
    "In dieser Übung übertragen Sie die Vorgehensweise auf je eine einfache und eine komplexere Dimension mit anderen Quelldaten.\n",
    "\n",
    "Die Tabellenstruktur der zu erstellenden Dimensionstabellen inkl. der Spalten (nicht jedoch Datentypen) geht aus dem ER-Diagramm im `data`-Verzeichnis hervor. Die Datentypen wiederum können in den Dokumentationen der jeweiligen Qeulldatenbereiche (Bielefeld, Mannheim, Dimensionen) nachgeschlagen werden."
   ]
  },
  {
   "cell_type": "markdown",
   "metadata": {
    "id": "bbsb3U9UkAl1"
   },
   "source": [
    "## Konfiguration des Notebooks"
   ]
  },
  {
   "cell_type": "code",
   "execution_count": null,
   "metadata": {
    "id": "1D0zfQ-IzSGk"
   },
   "outputs": [],
   "source": [
    "# Ggf. fehlende Pakete installieren\n",
    "!pip install --quiet ipython-sql"
   ]
  },
  {
   "cell_type": "code",
   "execution_count": null,
   "metadata": {
    "id": "44KM1u1Zzn3-"
   },
   "outputs": [],
   "source": [
    "import os\n",
    "import sys\n",
    "import urllib.request\n",
    "%load_ext sql\n",
    "%config SqlMagic.style = '_DEPRECATED_DEFAULT'"
   ]
  },
  {
   "cell_type": "code",
   "execution_count": null,
   "metadata": {
    "id": "MP1zDb_s0-rq"
   },
   "outputs": [],
   "source": [
    "# Konfiguration\n",
    "base_url_quellen = \"https://raw.githubusercontent.com/fau-lmi/lct-ehealth/main/07-ETL+DWH/data\"\n",
    "base_url_staging = \"./\""
   ]
  },
  {
   "cell_type": "code",
   "execution_count": null,
   "metadata": {
    "id": "qs1-4gbkrjSO"
   },
   "outputs": [],
   "source": [
    "# SQlite-Datenbanken aus Github auf den Jupyter-Server herunterladen\n",
    "urllib.request.urlretrieve(base_url_quellen + \"/datenbanken/stg_bielefeld.sqlite\",  \"stg_bielefeld.sqlite\")\n",
    "urllib.request.urlretrieve(base_url_quellen + \"/datenbanken/stg_mannheim.sqlite\",   \"stg_mannheim.sqlite\")\n",
    "urllib.request.urlretrieve(base_url_quellen + \"/datenbanken/stg_dimensions.sqlite\", \"stg_dimensions.sqlite\")\n",
    "urllib.request.urlretrieve(base_url_quellen + \"/datenbanken/staging.sqlite\",        \"staging.sqlite\")\n"
   ]
  },
  {
   "cell_type": "code",
   "execution_count": null,
   "metadata": {
    "id": "-vj4aaez2LXG"
   },
   "outputs": [],
   "source": [
    "# Datenbankverbindung als Pfad (für das ETL) & iPython SQL (für die Abfragen) herstellen\n",
    "db_path_stg_bielefeld  = base_url_staging + \"stg_bielefeld.sqlite\"\n",
    "db_path_stg_mannheim   = base_url_staging + \"stg_mannheim.sqlite\"\n",
    "db_path_stg_dimensions = base_url_staging + \"stg_dimensions.sqlite\"\n",
    "db_path_staging        = base_url_staging + \"staging.sqlite\"\n",
    "db_path_reporting      = base_url_staging + \"reporting.sqlite\"\n",
    "\n",
    "db_url_stg_bielefeld  = \"sqlite:///\" + db_path_stg_bielefeld\n",
    "db_url_stg_mannheim   = \"sqlite:///\" + db_path_stg_mannheim\n",
    "db_url_stg_dimensions = \"sqlite:///\" + db_path_stg_dimensions\n",
    "db_url_staging        = \"sqlite:///\" + db_path_staging\n",
    "db_url_reporting      = \"sqlite:///\" + db_path_reporting\n",
    "\n",
    "%sql $db_url_stg_bielefeld\n",
    "%sql $db_url_stg_mannheim\n",
    "%sql $db_url_stg_dimensions\n",
    "%sql $db_url_staging\n",
    "%sql $db_url_reporting"
   ]
  },
  {
   "cell_type": "code",
   "execution_count": null,
   "metadata": {
    "id": "Qpl48MBD2LfC"
   },
   "outputs": [],
   "source": [
    "%%sql $db_url_staging\n",
    "ATTACH DATABASE :db_path_stg_bielefeld  AS bielefeld;\n",
    "ATTACH DATABASE :db_path_stg_mannheim   AS mannheim;\n",
    "ATTACH DATABASE :db_path_stg_dimensions AS dimensions;\n",
    "ATTACH DATABASE :db_path_reporting      AS reporting;"
   ]
  },
  {
   "cell_type": "markdown",
   "metadata": {
    "id": "mfEtqN2sne-F"
   },
   "source": [
    "## Aufgabe: Dimensionstabelle D_PROZEDUR generieren\n",
    "\n",
    "Generieren Sie die Dimensionstabelle D_PROZEDUR gemäß den Vorgaben des DWH-Datenmodells! Nutzen sie dazu die Quelldaten aus den Prozedurentabellen des Bielefelder & Mannheimer Quelldatensatzes und führen sie zusammen. Prüfen Sie anschließend, ob die Tabelle korrekt befüllt wurde."
   ]
  },
  {
   "cell_type": "markdown",
   "metadata": {
    "id": "XqNWZD0T20m0"
   },
   "source": [
    "### 1. Zieltabelle anlegen\n",
    "\n",
    "Hierzu legen wir zunächst mit einem CREATE-Table die Tabelle in der Reporting-Datenbank (leer) an."
   ]
  },
  {
   "cell_type": "code",
   "execution_count": null,
   "metadata": {
    "id": "-bb8aZtj-nFA"
   },
   "outputs": [],
   "source": [
    "%%sql $db_url_staging\n",
    "DROP TABLE IF EXISTS reporting.d_prozedur;\n",
    "\n",
    "CREATE TABLE reporting.d_prozedur (\n",
    "  prozedur_id   VARCHAR(20),\n",
    "  prozedur_name VARCHAR(100)\n",
    ");"
   ]
  },
  {
   "cell_type": "markdown",
   "metadata": {
    "id": "Wrjb1_5xoNF8"
   },
   "source": [
    "### 2. Daten aus den Quelltabellen auslesen & in Zieltabelle schreiben\n",
    "\n",
    "In diesem Schritt lesen wir mit `SELECT`-Statements die Daten aus den Quelltabellen beider Standorte aus.\n",
    "\n",
    "Wir benennen bei der Abfrage die Spalten mit der `AS`-Klausel nach den Vorgeben unseres Datenmodells um.\n",
    "\n",
    "Um eindeutige Einträge in der Zieltabelle zu erhalten, nutzen wir die `DISTINCT`-Klausel."
   ]
  },
  {
   "cell_type": "code",
   "execution_count": null,
   "metadata": {
    "id": "fJQq8K0--nHe"
   },
   "outputs": [],
   "source": [
    "%%sql $db_url_staging\n",
    "DELETE FROM reporting.d_prozedur;\n",
    "\n",
    "INSERT INTO reporting.d_prozedur (prozedur_id, prozedur_name)\n",
    "\n",
    "SELECT DISTINCT\n",
    "       prozedur_code AS prozedur_id,\n",
    "       prozedur_name\n",
    "  FROM bielefeld.prozeduren\n",
    "\n",
    "UNION\n",
    "\n",
    "SELECT DISTINCT\n",
    "       code        AS prozedur_id,\n",
    "       description AS prozedur_name\n",
    "  FROM mannheim.procedures;"
   ]
  },
  {
   "cell_type": "markdown",
   "metadata": {
    "id": "kf4Zkcu2qU55"
   },
   "source": [
    "### 3. Ergebniskontrolle\n",
    "\n",
    "Anschließend können wir mit einer `SELECT`-Abfrage überprüfen, ob die Tabelle korrekt erstellt wurde.\n"
   ]
  },
  {
   "cell_type": "code",
   "execution_count": null,
   "metadata": {
    "id": "d3REna2T-nNb"
   },
   "outputs": [],
   "source": [
    "%%sql $db_url_staging\n",
    "SELECT *\n",
    "  FROM reporting.d_prozedur\n",
    " LIMIT 10"
   ]
  },
  {
   "cell_type": "markdown",
   "metadata": {
    "id": "ws1ZQGdJ2Vcy"
   },
   "source": [
    "## Aufgabe: Dimensionstabelle D_DIAGNOSE generieren\n",
    "\n",
    "Generieren Sie die Dimensionstabelle D_DIAGNOSE mit ihren 3 Ebenen gemäß den Vorgaben des DWH-Datenmodells! Nutzen Sie dazu die Quelldaten der Tabelle \"CONDITIONS_ICD10CM\" im Dimensionsbereich. Prüfen Sie anschließend, ob die Tabelle korrekt befüllt wurde."
   ]
  },
  {
   "cell_type": "markdown",
   "metadata": {
    "id": "6Q-J502o2-JE"
   },
   "source": [
    "### 1. Zieltabelle anlegen\n",
    "\n",
    "Hierzu legen wir zunächst mit einem CREATE-Table die Tabelle in der Reporting-Datenbank (leer) an."
   ]
  },
  {
   "cell_type": "code",
   "execution_count": null,
   "metadata": {
    "id": "ZNiGHUI-2_WT"
   },
   "outputs": [],
   "source": [
    "%%sql $db_url_staging\n",
    "DROP TABLE IF EXISTS reporting.d_diagnose;\n",
    "\n",
    "CREATE TABLE reporting.d_diagnose (\n",
    "  kapitel_id   VARCHAR(1),\n",
    "  kapitel_name VARCHAR(100),\n",
    "  icd_id       VARCHAR(10),\n",
    "  icd_name     VARCHAR(200),\n",
    "  snomed_id    VARCHAR(20),\n",
    "  snomed_name  VARCHAR(200)\n",
    ");"
   ]
  },
  {
   "cell_type": "markdown",
   "metadata": {
    "id": "sIGTQnme3JKn"
   },
   "source": [
    "### 2. Daten aus der Quelltabelle auslesen & in Zieltabelle schreiben\n",
    "\n",
    "Die Dimension D_DIAGNOSE hat laut DWH-Datenmodell die 3 folgenden Ebenen:\n",
    "* KAPITEL: Kapitel des ICD-Katalogs\n",
    "* ICD: Einzelne ICD-Codes (Blatt-Ebene von ICD)\n",
    "* SNOMED: Zugeordnete SNOMED-Codes\n",
    "\n",
    "Die LOINC-Klasse ist in den Quelldaten (wie oben bei der Fallart) nur mit einem textuellen Code, jedoch keiner ID abgebildet. Da der Code sprechend ist, tragen wir den Text der Klasse identisch in die _ID- und _NAME-Spalten ein.\n",
    "\n",
    "Da die Quelldaten für beide Ebenen der Hierarchie aus der gleichen Quelltabelle stammen, besteht die Aufgabe hier nur darin, die Spalten gemäß den Vorgaben des DWH-Datenmodells umzubenennen und in die Zieltabelle per `INSERT INTO  ... SELECT ...` auszuliefern."
   ]
  },
  {
   "cell_type": "code",
   "execution_count": null,
   "metadata": {
    "id": "kgXA8EFu3NcG"
   },
   "outputs": [],
   "source": [
    "%%sql $db_url_staging\n",
    "DELETE FROM reporting.d_diagnose;\n",
    "\n",
    "INSERT INTO reporting.d_diagnose (kapitel_id, kapitel_name, icd_id, icd_name, snomed_id, snomed_name)\n",
    "\n",
    "SELECT icd10cm_chapter_code AS kapitel_id,\n",
    "       icd10cm_chapter_name AS kapitel_name,\n",
    "       icd10cm_code         AS icd_id,\n",
    "       icd10cm_text         AS icd_name,\n",
    "       condition_code       AS snomed_id,\n",
    "       condition_text       AS snomed_name\n",
    "  FROM dimensions.conditions_icd10cm;"
   ]
  },
  {
   "cell_type": "markdown",
   "metadata": {
    "id": "WfABHNED3Rhs"
   },
   "source": [
    "### 3. Ergebniskontrolle\n",
    "\n",
    "Anschließend können wir mit einer `SELECT`-Abfrage überprüfen, ob die Tabelle korrekt erstellt wurde."
   ]
  },
  {
   "cell_type": "code",
   "execution_count": null,
   "metadata": {
    "id": "cqUbW3ef3SpH"
   },
   "outputs": [],
   "source": [
    "%%sql $db_url_staging\n",
    "SELECT *\n",
    "  FROM reporting.d_diagnose\n",
    " LIMIT 20"
   ]
  }
 ],
 "metadata": {
  "colab": {
   "authorship_tag": "ABX9TyNYngBqXzJ7WrArqxlf1qgl",
   "provenance": [
    {
     "file_id": "1haAGWg8IoFQNyOEWt_vDwn1T2c5UcQy4",
     "timestamp": 1715010032044
    },
    {
     "file_id": "https://github.com/fau-lmi/lct-ehealth-datawarehouse/blob/main/01-01-Extraktion-Demo.ipynb",
     "timestamp": 1714911186628
    },
    {
     "file_id": "1BL6fz2-jOCEmlbHL_LUVxhtHzK709prp",
     "timestamp": 1714904625208
    }
   ]
  },
  "kernelspec": {
   "display_name": "Python (venv)",
   "language": "python",
   "name": "venv"
  },
  "language_info": {
   "codemirror_mode": {
    "name": "ipython",
    "version": 3
   },
   "file_extension": ".py",
   "mimetype": "text/x-python",
   "name": "python",
   "nbconvert_exporter": "python",
   "pygments_lexer": "ipython3",
   "version": "3.13.2"
  }
 },
 "nbformat": 4,
 "nbformat_minor": 4
}
