{
 "cells": [
  {
   "cell_type": "markdown",
   "metadata": {
    "id": "kECArKW1jsei"
   },
   "source": [
    "# 01-03 Extraktion - Musterlösung\n",
    "\n"
   ]
  },
  {
   "cell_type": "markdown",
   "metadata": {
    "id": "bbsb3U9UkAl1"
   },
   "source": [
    "## Konfiguration des Notebooks"
   ]
  },
  {
   "cell_type": "code",
   "execution_count": null,
   "metadata": {
    "id": "1D0zfQ-IzSGk"
   },
   "outputs": [],
   "source": [
    "# Ggf. fehlende Pakete installieren\n",
    "!pip install --quiet ipython-sql petl"
   ]
  },
  {
   "cell_type": "code",
   "execution_count": null,
   "metadata": {
    "id": "44KM1u1Zzn3-"
   },
   "outputs": [],
   "source": [
    "import petl as etl\n",
    "import csv\n",
    "import sys\n",
    "%load_ext sql\n",
    "%config SqlMagic.style = '_DEPRECATED_DEFAULT'"
   ]
  },
  {
   "cell_type": "code",
   "execution_count": null,
   "metadata": {
    "id": "MP1zDb_s0-rq"
   },
   "outputs": [],
   "source": [
    "# Konfiguration\n",
    "base_url_quellen = \"https://raw.githubusercontent.com/fau-lmi/lct-ehealth/main/07-ETL+DWH/data\"\n",
    "base_url_staging = \"./\""
   ]
  },
  {
   "cell_type": "markdown",
   "metadata": {
    "id": "yEl6JfM2mudq"
   },
   "source": [
    "**Hinweise zur Datenbankanbindung**\n",
    "\n",
    "Im folgenden Block werden die Verbindungen zur Datenbank hergestellt. Normalerweise würden wir für das Staging eine einzige Zieldatenbank nutzen, in der wir verschiedene Schemata als Namensräume für die 3 Quellsysteme (Bielefeld, Mannheim, Dimensionen) nutzen würden. Die Datenbanken werden dabei als `*.sqlite`-Dateien im aktuellen Verzeichnis des Rechners angelegt, auf dem dieses Notebook ausgeführt wird."
   ]
  },
  {
   "cell_type": "code",
   "execution_count": null,
   "metadata": {
    "id": "-vj4aaez2LXG"
   },
   "outputs": [],
   "source": [
    "# Datenbankverbindung als Pfad (für das ETL) & iPython SQL (für die Abfragen) herstellen\n",
    "db_path_stg_bielefeld  = base_url_staging + \"stg_bielefeld.sqlite\"\n",
    "db_path_stg_mannheim   = base_url_staging + \"stg_mannheim.sqlite\"\n",
    "db_path_stg_dimensions = base_url_staging + \"stg_dimensions.sqlite\"\n",
    "db_path_staging        = base_url_staging + \"staging.sqlite\"\n",
    "\n",
    "db_url_stg_bielefeld  = \"sqlite:///\" + db_path_stg_bielefeld\n",
    "db_url_stg_mannheim   = \"sqlite:///\" + db_path_stg_mannheim\n",
    "db_url_stg_dimensions = \"sqlite:///\" + db_path_stg_dimensions\n",
    "db_url_staging        = \"sqlite:///\" + db_path_staging\n",
    "\n",
    "%sql $db_url_stg_bielefeld\n",
    "%sql $db_url_stg_mannheim\n",
    "%sql $db_url_stg_dimensions\n",
    "%sql $db_url_staging"
   ]
  },
  {
   "cell_type": "markdown",
   "metadata": {
    "id": "v3zUK0IEnDb_"
   },
   "source": [
    "Da SQLite keine Schemata unterstützt, legen wir stattdessen 3 getrennte Staging-Datenbanken an (stg_bielefeld, stg_mannheim & stg_dimensions). SQLite erlaubt über den `ATTACH DATABASE`-Befehl, diese 3 Datenbanken anschließend von einer gemeinsamen Datenbank (staging) aus zu bündeln und gemeinsam darauf zuzugreifen.\n",
    "\n",
    "Wir können  anschließend von der übergeordneten Staging-Datenbank aus gleichzeitig auf Tabellen jeder der 3 eingehängten Datenbanken zugreifen, indem wir z.B. `SELECT * FROM stg_bielefeld.faelle` schreiben (lädt die Daten der Fälle-Tabelle der Bielefelder Staging-Datenbank)."
   ]
  },
  {
   "cell_type": "code",
   "execution_count": null,
   "metadata": {
    "id": "Qpl48MBD2LfC"
   },
   "outputs": [],
   "source": [
    "%%sql $db_url_staging\n",
    "ATTACH DATABASE :db_path_stg_bielefeld  AS bielefeld;\n",
    "ATTACH DATABASE :db_path_stg_mannheim   AS mannheim;\n",
    "ATTACH DATABASE :db_path_stg_dimensions AS dimensions;"
   ]
  },
  {
   "cell_type": "markdown",
   "metadata": {
    "id": "vhCNZF6GP_zh"
   },
   "source": [
    "## Aufgabe: Bielefelder Rohdatentabellen extrahieren und in Staging-Bereich laden\n",
    "\n",
    "Nutzen Sie die gleichen Befehle wie in der Demo, um die folgenden Tabellen aus dem Quelldatenverzeichnis \"bielefeld\" in die Zieldatenbank stg_bielefeld zu übertragen! Legen Sie dabei die Tabellen mit passenden CREATE-Table-Statements an, überführen Sie die Daten mit den PETL-Kommandos und prüfen Sie abschießend mit einer Abfrage, ob die Daten korrekt übertragen wurden. Verwenden Sie als Tabellennamen in der Datenbank den Namen der Quelldatei ohne das \".tsv\"-Suffix (also z.B. patienten.tsv => patienten)."
   ]
  },
  {
   "cell_type": "markdown",
   "metadata": {
    "id": "mfEtqN2sne-F"
   },
   "source": [
    "### Tabelle: `patienten.tsv`\n",
    "\n",
    "#### 1. Zieltabelle anlegen\n",
    "\n",
    "Legen Sie mit einem CREATE-Table die Tabelle in der Staging-Datenbank (leer) an.\n",
    "\n",
    "💡 *Hinweise:*\n",
    "\n",
    "* Der Code zur Anlage der Tabelle muss in einer eigenen Zelle stehen, da der `%%sql`-Befehl für mehrzeilige SQL-Statements nicht gemeinsam mit anderen Befehlen im gleichen Block verarbeitet werden kann.\n",
    "* Die Datentypen der Spalten für das `CREATE`-Statement finden Sie in der Dokumentation der Bielefelder Quelldaten."
   ]
  },
  {
   "cell_type": "code",
   "execution_count": null,
   "metadata": {
    "id": "-bb8aZtj-nFA"
   },
   "outputs": [],
   "source": [
    "%%sql $db_url_staging\n",
    "DROP TABLE IF EXISTS bielefeld.patienten;\n",
    "CREATE TABLE bielefeld.patienten (\n",
    "  patient_id INTEGER,\n",
    "  nachname VARCHAR(50),\n",
    "  vorname VARCHAR(50),\n",
    "  geburtsdatum VARCHAR(10),\n",
    "  sterbedatum VARCHAR(10),\n",
    "  geschlecht VARCHAR(1),\n",
    "  strasse VARCHAR(50),\n",
    "  plz VARCHAR(5),\n",
    "  ort VARCHAR(50),\n",
    "  LAT FLOAT,\n",
    "  LON FLOAT\n",
    ");"
   ]
  },
  {
   "cell_type": "markdown",
   "metadata": {
    "id": "Wrjb1_5xoNF8"
   },
   "source": [
    "#### 2. Daten aus Quelldatei auslesen & in Zieltabelle schreiben\n",
    "\n",
    "Nutzen Sie die PETL-Funktionen `fromtsv()` und `todb()`, um die Quelldaten aus der Patienten-Datei zu laden und die Zieltabelle zu schreiben."
   ]
  },
  {
   "cell_type": "code",
   "execution_count": null,
   "metadata": {
    "id": "fJQq8K0--nHe"
   },
   "outputs": [],
   "source": [
    "table_data = etl.fromtsv(base_url_quellen + \"/bielefeld/patienten.tsv\")\n",
    "etl.todb(table_data, db_path_stg_bielefeld, 'patienten')"
   ]
  },
  {
   "cell_type": "markdown",
   "metadata": {
    "id": "kf4Zkcu2qU55"
   },
   "source": [
    "#### 3. Ergebniskontrolle\n",
    "\n",
    "Abschließend prüfen Sie mit einer `SELECT`-Abfrage, ob die Tabelle korrekt übertragen wurde.\n"
   ]
  },
  {
   "cell_type": "code",
   "execution_count": null,
   "metadata": {
    "id": "d3REna2T-nNb"
   },
   "outputs": [],
   "source": [
    "%%sql $db_url_staging\n",
    "SELECT *\n",
    "  FROM bielefeld.patienten\n",
    " LIMIT 10"
   ]
  },
  {
   "cell_type": "markdown",
   "metadata": {
    "id": "_UbOVguhUDmz"
   },
   "source": [
    "### Tabelle `diagnosen.tsv`\n",
    "\n",
    "Führen Sie die gleichen Schritte für die Bielefelder Quelltabelle `diagnosen.tsv` durch!\n",
    "\n",
    "#### 1. Zieltabelle anlegen"
   ]
  },
  {
   "cell_type": "code",
   "execution_count": null,
   "metadata": {
    "id": "0u-97ZDMUODN"
   },
   "outputs": [],
   "source": [
    "%%sql $db_url_staging\n",
    "DROP TABLE IF EXISTS bielefeld.diagnosen;\n",
    "CREATE TABLE bielefeld.diagnosen (\n",
    "  fall_id INTEGER,\n",
    "  patient_id INTEGER,\n",
    "  diagnose_datum VARCHAR(10),\n",
    "  diagnose_code VARCHAR(20),\n",
    "  diagnose_text VARCHAR(100)\n",
    ");"
   ]
  },
  {
   "cell_type": "markdown",
   "metadata": {
    "id": "5fiy4FUMUOLr"
   },
   "source": [
    "#### 2. Daten aus Quelldatei auslesen & in Zieltabelle schreiben"
   ]
  },
  {
   "cell_type": "code",
   "execution_count": null,
   "metadata": {
    "id": "15fSedhJUOUi"
   },
   "outputs": [],
   "source": [
    "table_data = etl.fromtsv(base_url_quellen + \"/bielefeld/diagnosen.tsv\")\n",
    "etl.todb(table_data, db_path_stg_bielefeld, 'diagnosen')"
   ]
  },
  {
   "cell_type": "markdown",
   "metadata": {
    "id": "Gufmjb4RUPBV"
   },
   "source": [
    "#### 3. Ergebniskontrolle"
   ]
  },
  {
   "cell_type": "code",
   "execution_count": null,
   "metadata": {
    "id": "grcn9FTCUPQP"
   },
   "outputs": [],
   "source": [
    "%%sql $db_url_staging\n",
    "SELECT *\n",
    "  FROM bielefeld.diagnosen\n",
    " LIMIT 10"
   ]
  }
 ],
 "metadata": {
  "colab": {
   "authorship_tag": "ABX9TyNOZ+SIFpI6B+s8DR8U1OJp",
   "provenance": [
    {
     "file_id": "1BL6fz2-jOCEmlbHL_LUVxhtHzK709prp",
     "timestamp": 1714746323801
    }
   ]
  },
  "kernelspec": {
   "display_name": "Python (venv)",
   "language": "python",
   "name": "venv"
  },
  "language_info": {
   "codemirror_mode": {
    "name": "ipython",
    "version": 3
   },
   "file_extension": ".py",
   "mimetype": "text/x-python",
   "name": "python",
   "nbconvert_exporter": "python",
   "pygments_lexer": "ipython3",
   "version": "3.13.2"
  }
 },
 "nbformat": 4,
 "nbformat_minor": 4
}
