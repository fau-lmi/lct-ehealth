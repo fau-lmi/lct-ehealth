{
 "cells": [
  {
   "cell_type": "markdown",
   "metadata": {
    "id": "SvxhKbdnO7j3"
   },
   "source": [
    "# 04-01 Visualisierung-Demo\n",
    "\n",
    "## Hinweise zur Übung\n",
    "\n",
    "Diese Demo schließt an die beiden vorherigen SQL- & Pandas Übungen an und zeigt, wie abgefragten Daten in Form von Diagrammen und Geovisualisierungen grafisch aufbereitet werden können.\n",
    "\n",
    "Für Diagramme wird dabei das *Altair*-Package verwendet, das in Python sehr hochwertige und vom Konzept her mit dem ggplot2-Paket in R vergleichbare Diagramme generieren kann.\n",
    "\n",
    "Für die Geovisualisierungen verwenden wir das *Folium*-Package, das die interaktive Darstellung von Landkarten & darauf platzierten Markern über die Leaflet-Bibliothek (auch in R verfügbar) realisiert.\n",
    "\n",
    "Wir erstellen die Abfragen in diesem Notebook direkt in SQL (vgl. Übung 02) und laden die bereits gefilterten/aggregierten Ergebnisse in Dataframes (vgl. Übung 03). Für einzelne Transformationen (z.B. Pivotieren vom \"wide\"- ins \"long\"-Format) nutzen wir Pandas-Methoden."
   ]
  },
  {
   "cell_type": "markdown",
   "metadata": {
    "id": "bbsb3U9UkAl1"
   },
   "source": [
    "## Konfiguration des Notebooks"
   ]
  },
  {
   "cell_type": "code",
   "execution_count": null,
   "metadata": {
    "id": "1D0zfQ-IzSGk"
   },
   "outputs": [],
   "source": [
    "# Ggf. fehlende Pakete installieren\n",
    "!pip install --quiet ipython-sql pandas altair folium"
   ]
  },
  {
   "cell_type": "code",
   "execution_count": null,
   "metadata": {
    "id": "44KM1u1Zzn3-"
   },
   "outputs": [],
   "source": [
    "import os\n",
    "import sys\n",
    "import urllib.request\n",
    "import gzip\n",
    "import shutil\n",
    "import pandas as pd\n",
    "import altair as alt\n",
    "import folium\n",
    "%load_ext sql\n",
    "%config SqlMagic.style = '_DEPRECATED_DEFAULT'"
   ]
  },
  {
   "cell_type": "code",
   "execution_count": null,
   "metadata": {
    "id": "MP1zDb_s0-rq"
   },
   "outputs": [],
   "source": [
    "# Konfiguration\n",
    "base_url_quellen   = \"https://raw.githubusercontent.com/fau-lmi/lct-ehealth/main/08-Datenanalyse+Visualisierung/data\"\n",
    "base_url_reporting = \"./\""
   ]
  },
  {
   "cell_type": "code",
   "execution_count": null,
   "metadata": {
    "id": "4IYsvJsGthEU"
   },
   "outputs": [],
   "source": [
    "# SQlite-Datenbanken aus Github auf den Jupyter-Server herunterladen\n",
    "urllib.request.urlretrieve(base_url_quellen + \"/dwh/reporting.sqlite.gz\", base_url_reporting + \"reporting.sqlite.gz\")\n",
    "\n",
    "# Die Sqlite-Datenbank ist aufgrund ihrer Größe gezipped und muss vor der Nutzung noch entpackt werden\n",
    "with gzip.open(base_url_reporting + \"reporting.sqlite.gz\", \"rb\") as f_in:\n",
    "    with open(base_url_reporting + \"reporting.sqlite\", \"wb\") as f_out:\n",
    "        shutil.copyfileobj(f_in, f_out)"
   ]
  },
  {
   "cell_type": "code",
   "execution_count": null,
   "metadata": {
    "id": "p_O_S1FO6crA"
   },
   "outputs": [],
   "source": [
    "# Datenbankverbindung als Pfad (für das ETL) & iPython SQL (für die Abfragen) herstellen\n",
    "db_path_reporting      = base_url_reporting + \"reporting.sqlite\"\n",
    "\n",
    "db_url_reporting      = \"sqlite:///\" + db_path_reporting\n",
    "\n",
    "%sql $db_url_reporting"
   ]
  },
  {
   "cell_type": "markdown",
   "metadata": {
    "id": "2hk6avHq7J62"
   },
   "source": [
    "## Einfache Diagramme mit Altair\n",
    "\n",
    "In diesem Abschnitt sollen einfache Abfragen mit verschiedenen Diagrammtypen von Altair dargestellt werden, um in die Vorgehensweise einzuführen.\n"
   ]
  },
  {
   "cell_type": "markdown",
   "metadata": {
    "id": "41kI92f8bEVm"
   },
   "source": [
    "### Säulen- & Balkendiagramme\n",
    "\n",
    "Der Aufbau von Diagrammen erfolgt bei Altair schrittweise, ausgehend von einem allgemeinen Diagramm-Objekt, dem nach und nach die darzustellenden Daten, Darstellungsform (Mindestangaben) sowie optional Details zur konkreten Visualisierung (z.B. Größen, Farben, Achsenbeschriften) zugewiesen werden.\n",
    "\n",
    "Zuerst lesen wir einen einfachen Datensatz (Geschlechtsverteilung der Patient:innen im DWH) in einen Dataframe:"
   ]
  },
  {
   "cell_type": "code",
   "execution_count": null,
   "metadata": {
    "id": "KyuexSOSQMmE"
   },
   "outputs": [],
   "source": [
    "# Geschlechtsverteilung der Patienten in der Tabelle D_PATIENT aggregieren\n",
    "sql = \"\"\"\n",
    "SELECT patient_geschlecht,\n",
    "       COUNT(*) AS n\n",
    "  FROM d_patient\n",
    " GROUP BY patient_geschlecht\n",
    "\"\"\"\n",
    "resultset = %sql $db_url_reporting $sql\n",
    "df_geschlecht = resultset.DataFrame()\n",
    "df_geschlecht.head()"
   ]
  },
  {
   "cell_type": "markdown",
   "metadata": {
    "id": "Q_UhRAW5cFRv"
   },
   "source": [
    "Für das *Altair*-Package wurde beim Import das Alias `alt` festgelegt, so dass der Package-Name beim Aufruf nicht ausgeschrieben werden muss.\n",
    "Mit der `Chart()`-Methode wird zunächst ein Diagramm-Objekt erzeugt und ein Dataframe als Datenquelle festgelegt:\n",
    "\n",
    "`alt.Chart(dataframe)`\n",
    "\n",
    "Über verschiedene \"mark\"-Methoden wird dann die Art der Darstellung festgelegt, hier als Säulendiagramm (`mark_bar()`):\n",
    "\n",
    "`alt.Chart(dataframe).mark_bar()`\n",
    "\n",
    "Mit der `encode()`-Methode wird anschließend festgelegt, welche Spalten des Dataframes auf die X- bzw. Y-Achse abgebildet werden sollen:\n",
    "\n",
    "```\n",
    "alt.Chart(dataframe).mark_bar().encode(\n",
    "  x = alt.X(\"spalte1\"),\n",
    "  y = alt.Y(\"spalte2\")\n",
    ")\n",
    "```\n",
    "\n",
    "Mit dieser einfachsten Form kann bereits ein Diagramm dargestellt werden, bei dem Altair Defaultwerte für alle restlichen Attribute einsetzt (beispielsweise die Spaltennamen als Achsenbeschriftungen übernimmt):\n",
    "\n"
   ]
  },
  {
   "cell_type": "code",
   "execution_count": null,
   "metadata": {
    "id": "NTesd0NpOtl6"
   },
   "outputs": [],
   "source": [
    "# Säulendiagramm der Geschlechtsverteilung mit Default-Einstellungen\n",
    "alt.Chart(df_geschlecht) \\\n",
    "  .mark_bar() \\\n",
    "  .encode(\n",
    "    x = alt.X(\"patient_geschlecht\"),\n",
    "    y = alt.Y(\"n\")\n",
    "  )"
   ]
  },
  {
   "cell_type": "markdown",
   "metadata": {
    "id": "bDipAhPNc66N"
   },
   "source": [
    "Zur Umstellung von einem Säulen auf ein Balkendiagramm reicht es aus, die X- & Y-Achsen zu vertauschen:"
   ]
  },
  {
   "cell_type": "code",
   "execution_count": null,
   "metadata": {
    "id": "aZ59qDAMPf4x"
   },
   "outputs": [],
   "source": [
    "# Darstellung als Balkendiagramm durch Vertauschen der X- & Y-Zuordnungen\n",
    "alt.Chart(df_geschlecht) \\\n",
    "  .mark_bar() \\\n",
    "  .encode(\n",
    "    x = alt.X(\"n\"),\n",
    "    y = alt.Y(\"patient_geschlecht\")\n",
    "  )"
   ]
  },
  {
   "cell_type": "markdown",
   "metadata": {
    "id": "Ee95hZszdFAE"
   },
   "source": [
    "Die Eigenschaften des Diagramms können detailliert festgelegt werden, indem z.B. bei der X-Achse in der `alt.X`-Funktion weitere Parameter spezifiziert werden:\n",
    "\n",
    "`alt.X('Spaltenname', axis=alt.Axis(title='Achsenbeschriftung'))`\n",
    "\n",
    "Mit der `properties()`-Methode können übergreifende Eigenschaften des Diagramms wie der Titel sowie die Größe festgelegt werden."
   ]
  },
  {
   "cell_type": "code",
   "execution_count": null,
   "metadata": {
    "id": "NlfdlQK7XqOs"
   },
   "outputs": [],
   "source": [
    "# Säulendiagramm mit festgelegter Größe, Farben, Titel & Achsenbeschriftung\n",
    "alt.Chart(df_geschlecht) \\\n",
    "  .mark_bar() \\\n",
    "  .encode(\n",
    "    x     = alt.X(\"patient_geschlecht\", axis=alt.Axis(title=\"Geschlecht\")),\n",
    "    y     = alt.Y(\"n\", axis=alt.Axis(title=\"Anzahl\")),\n",
    "    color = alt.Color(\"patient_geschlecht\", legend=alt.Legend(title=\"Geschlecht\"))\n",
    "  ) \\\n",
    "  .properties(\n",
    "    title  = \"Geschlechtsverteilung\",\n",
    "    width  = 200,\n",
    "    height = 250\n",
    "  )"
   ]
  },
  {
   "cell_type": "markdown",
   "metadata": {
    "id": "pIjw_TZFJ0ko"
   },
   "source": [
    "### Pie- & Donut-Charts\n",
    "\n",
    "Durch Austausch der `mark_bar()`-Methode gegen `mark_arc()` wird statt eines Balkendiagramms ein Tortendiagramm gezeichnet.\n",
    "Statt den X/Y-Achsen (die im Tortendiagramm keine Bedeutung haben), wird ein neuer Parameter `theta` angegeben, der aus der im Diagramm visualisierten Kennzahl die Winkel & Breiten der einzelnen Tortenabschnitte ableitet."
   ]
  },
  {
   "cell_type": "code",
   "execution_count": null,
   "metadata": {
    "id": "79lZhhwsJ0rj"
   },
   "outputs": [],
   "source": [
    "# Tortendiagramm für die Geschlechtsverteilung\n",
    "alt.Chart(df_geschlecht) \\\n",
    "  .mark_arc() \\\n",
    "  .encode(\n",
    "    theta = alt.Theta(\"n\"),\n",
    "    color = alt.Color(\"patient_geschlecht\", legend=alt.Legend(title=\"Geschlecht\"))\n",
    "  )"
   ]
  },
  {
   "cell_type": "markdown",
   "metadata": {
    "id": "H4gevM2h7cOp"
   },
   "source": [
    "Diagramme können in Altair auch zunächst in mehreren Teilen separat erzeugt und über eine einfache \"Addition\" zusammengesetzt werden. Im folgenden Beispiel wird zunächst ein zugrundeliegendes Diagrammobjekt \"base\" erzeugt, das gemeinsame Eigenschaften für die daraus abgeleiteten Teildiagramme bestimmt (in diesem Fall die Zuordnung der Kennzahl zum `theta`-Parameter sowie die Zuordnung der Farben). Wichtig ist hierbei der Parameter `stack=True`, der sicherstellt, dass die Proportionen für alle abgeleiteten Teildiagramme beibehalten werden.\n",
    "\n",
    "Aus dem Base-Objekt wird anschließend mit der `mark_arc()`-Methode ein Tortendiagramm erzeugt. Danch wird ein separates Diagramm mit den Wert-Labels erzeugt. Durch Angabe verschiedener Radii für das Tortendiagramm und die Beschriftungen wird sichergestellt, dass sie sich nicht überlappen.\n",
    "\n",
    "Im letzten Schritt werden die beiden Teildiagramme über eine Addition `+` zusammengefügt und ausgegeben."
   ]
  },
  {
   "cell_type": "code",
   "execution_count": null,
   "metadata": {
    "id": "xnQSRVBLLQ8x"
   },
   "outputs": [],
   "source": [
    "# Tortendiagramm ergänzt um Labels\n",
    "base = alt.Chart(df_geschlecht) \\\n",
    "  .encode(\n",
    "    theta = alt.Theta(\"n\", stack=True),\n",
    "    color = alt.Color(\"patient_geschlecht\", legend=alt.Legend(title=\"Geschlecht\"))\n",
    "  )\n",
    "\n",
    "# Tortendiagramm generieren\n",
    "pie    = base.mark_arc(radius=120)\n",
    "\n",
    "# Wert-Labels für die Tortenstücke generieren\n",
    "labels = base.mark_text(radius=140, size=10).encode(text=\"n\")\n",
    "\n",
    "# Diagramme kombinieren und ausgeben\n",
    "pie + labels"
   ]
  },
  {
   "cell_type": "markdown",
   "metadata": {
    "id": "cTWnxnBx8tkQ"
   },
   "source": [
    "Die `mark_arc()`-Methode unterstützt auch Donut-Charts (Ringdiagramme), indem ein zusätzliche Parameter `innerRadius` angegeben wird, der die Größe des weißen Innenbereichs angibt."
   ]
  },
  {
   "cell_type": "code",
   "execution_count": null,
   "metadata": {
    "id": "KUjYU9p8NXRj"
   },
   "outputs": [],
   "source": [
    "# Vorherige Grafik als Donut-Diagramm\n",
    "base = alt.Chart(df_geschlecht) \\\n",
    "  .encode(\n",
    "    theta = alt.Theta(\"n\", stack=True),\n",
    "    color = alt.Color(\"patient_geschlecht\", legend=alt.Legend(title=\"Geschlecht\"))\n",
    "  )\n",
    "\n",
    "pie    = base.mark_arc(radius=120, innerRadius=50)\n",
    "labels = base.mark_text(radius=140, size=10).encode(text=\"n\")\n",
    "\n",
    "pie + labels"
   ]
  },
  {
   "cell_type": "markdown",
   "metadata": {
    "id": "rvU8Ctb99MhU"
   },
   "source": [
    "### Linien- & Flächendiagramme\n",
    "\n",
    "Verlaufsdaten werden typischerweise in Form von Linien oder Flächendiagrammen dargestellt.\n",
    "\n",
    "Wir laden hierfür zunächst einen neuen Datensatz mit der Fallzahlentwicklung der beiden Standorte Bielefeld und Mannheim von 1980 bis heute, aggregiert pro Jahr:"
   ]
  },
  {
   "cell_type": "code",
   "execution_count": null,
   "metadata": {
    "id": "wzgbE3pJ9No0"
   },
   "outputs": [],
   "source": [
    "# Fallzahl pro Standort und Jahr ab 01.01.1980 auslesen\n",
    "sql = \"\"\"\n",
    "SELECT org.standort_name,\n",
    "       SUBSTR(fal.aufnahme_datum, 1, 4) AS jahr,\n",
    "       COUNT(*) AS n\n",
    "  FROM f_faelle fal\n",
    "  JOIN d_orga   org ON fal.einrichtung_id = org.einrichtung_id\n",
    " WHERE fal.aufnahme_datum >= '1980-01-01'\n",
    " GROUP BY org.standort_name,\n",
    "       SUBSTR(fal.aufnahme_datum, 1, 4)\n",
    "\"\"\"\n",
    "resultset = %sql $db_url_reporting $sql\n",
    "df_fallzahlen = resultset.DataFrame()\n",
    "df_fallzahlen.head()"
   ]
  },
  {
   "cell_type": "markdown",
   "metadata": {
    "id": "cqrkLR5BAjBh"
   },
   "source": [
    "Mit der Methode `mark_line()` können Liniendiagramme dargestellt werden:"
   ]
  },
  {
   "cell_type": "code",
   "execution_count": null,
   "metadata": {
    "id": "pXPdCwog-ebP"
   },
   "outputs": [],
   "source": [
    "alt.Chart(df_fallzahlen) \\\n",
    "  .mark_line() \\\n",
    "  .encode(\n",
    "    x     = alt.X(\"jahr\"),\n",
    "    y     = alt.Y(\"n\"),\n",
    "    color = alt.Color(\"standort_name\")\n",
    "  ) \\\n",
    "  .properties(\n",
    "    title  = \"Fallzahlen\",\n",
    "    width  = 600,\n",
    "    height = 250\n",
    "  )"
   ]
  },
  {
   "cell_type": "markdown",
   "metadata": {
    "id": "k0wmO3hZAt0B"
   },
   "source": [
    "Durch einfachen Austausch gegen die Methode `mark_area()` wird ein gestapeltes Flächendiagramm generiert, in dem die Gesamtzahl der Fälle pro Monat sowie der jeweilige Anteil pro Standort besser erkennbar sind:"
   ]
  },
  {
   "cell_type": "code",
   "execution_count": null,
   "metadata": {
    "id": "FP3_710iAJN8"
   },
   "outputs": [],
   "source": [
    "alt.Chart(df_fallzahlen) \\\n",
    "  .mark_area() \\\n",
    "  .encode(\n",
    "    x     = alt.X(\"jahr\"),\n",
    "    y     = alt.Y(\"n\"),\n",
    "    color = alt.Color(\"standort_name\")\n",
    "  ) \\\n",
    "  .properties(\n",
    "    title  = \"Fallzahlen\",\n",
    "    width  = 600,\n",
    "    height = 250\n",
    "  )"
   ]
  },
  {
   "cell_type": "markdown",
   "metadata": {
    "id": "xDArZYwLBsJO"
   },
   "source": [
    "### Scatterplots\n",
    "\n",
    "Bei Scatterplots werden Daten als Punkte oder Kreise in ein X/Y-Koordinatensystem eingetragen. Durch die Nutzung beider Achsen, der Farbe und ggf. der Größe der Kreise kann eine größere Menge von Kennzahlen gleichzeitig in einem Diagramm dargestellt werden, als es über Balken-, Linien- oder Flächendiagramme möglich ist.\n",
    "\n",
    "Wir fragen hierfür zunächst einen komplexeren Datensatz ab, der Angaben zu den Hauptdiagnosen der Fälle im Kurs-DWH wiedergibt:\n",
    "* Kapitelname der Hauptdiagnose im ICD-Katalog\n",
    "* Jahr der Aufnahme\n",
    "* Durchschnittliches Alter in Jahren bei Aufnahme\n",
    "* Anzahl der Fälle\n",
    "\n",
    "Um eine überschaubare Anzahl von Elementen im Diagramm zu sehen, filtern wir den Datensatz auf Diagnosen mit mindestens 10 Fällen pro Datenpunkt.\n"
   ]
  },
  {
   "cell_type": "code",
   "execution_count": null,
   "metadata": {
    "id": "AgUW9g7WBsSK"
   },
   "outputs": [],
   "source": [
    "# Kennzahlen zu den dokumentierten Diagnosen auswerten\n",
    "sql = \"\"\"\n",
    "SELECT dkt.kapitel_name,\n",
    "       SUBSTR(fal.aufnahme_datum, 1, 4) AS jahr,\n",
    "       AVG(fal.aufnahmealter_jahre)     AS aufnahmealter_avg,\n",
    "       COUNT(*)                         AS fallzahl\n",
    "  FROM f_faelle   fal\n",
    "  JOIN d_diagnose dkt ON fal.hauptdiagnose_snomed_id = dkt.snomed_id\n",
    " WHERE dkt.kapitel_name <> ''\n",
    " GROUP BY dkt.kapitel_name,\n",
    "       SUBSTR(fal.aufnahme_datum, 1, 4)\n",
    "HAVING COUNT(*) >= 10\n",
    "\"\"\"\n",
    "resultset = %sql $db_url_reporting $sql\n",
    "df_diagnoseverlauf = resultset.DataFrame()\n",
    "df_diagnoseverlauf.head()"
   ]
  },
  {
   "cell_type": "markdown",
   "metadata": {
    "id": "V_ILHHhWK7Ik"
   },
   "source": [
    "Scatterplots werden in Altair mit der Methode `mark_point()` erzeugt. Wir nutzen die bekannten Attribute x, y und color für die Zuweisung der X-Achse (Aufnahmejahr), Y-Achse (mittleres Alter bei Aufnahme) und Farbe (ICD-Kapitel). Als zusätzliches Attribut definieren wir die Größe der Kreise mit dem `size`-Parameter (Fallzahl).\n",
    "\n",
    "Da der Datentyp vor allem bei Dataframes im \"long\"-Format nicht immer automatisch erkennbar ist, erlaubt Altair die explizite Angabe eines Datentyps für die einbezogenen Spalten über ein Suffix mit einem Doppelpunkt `:`. Hierbei können u.a. folgende Typen angegeben werden:\n",
    "* Q: Quantitative (numerischer Wert)\n",
    "* T: Temporal (Datums- und/oder Zeitangabe)\n",
    "* N: Nominal (Ausprägungsliste ohne Reihenfolge)\n",
    "* O: Ordinal (Ausprägungsliste mit Reihenfolge)\n",
    "\n",
    "Im Beispiel unten wird das Jahr als temporal (T) definiert, das Aufnahmealter und die Fallzahl als quantitativ (Q) und das ICD-Kapitel als nominal (N).\n",
    "\n",
    "Das Attribut `tooltip` zeigt einen Mouseover-Effekt mit Angaben zum Diagnosekapitel, Jahr, Fallzahl und Aufnahmealter.\n",
    "\n",
    "\n"
   ]
  },
  {
   "cell_type": "code",
   "execution_count": null,
   "metadata": {
    "id": "Y1aGgJ9PDN03"
   },
   "outputs": [],
   "source": [
    "alt.Chart(df_diagnoseverlauf) \\\n",
    "  .mark_point() \\\n",
    "  .encode(\n",
    "    x     = alt.X(\"jahr:T\", axis=alt.Axis(title=\"Jahr\")),\n",
    "    y     = alt.Y(\"aufnahmealter_avg:Q\", axis=alt.Axis(title=\"Aufnahmealter\")),\n",
    "    size  = alt.Size(\"fallzahl:Q\"),\n",
    "    color = alt.Color(\"kapitel_name:N\"),\n",
    "    tooltip = ['kapitel_name', 'jahr', 'fallzahl', 'aufnahmealter_avg']\n",
    "  ) \\\n",
    "  .properties(\n",
    "    title  = \"Diagnosen\",\n",
    "    width  = 500,\n",
    "    height = 500\n",
    "  )"
   ]
  },
  {
   "cell_type": "markdown",
   "metadata": {
    "id": "k-WHLE4aJ_bc"
   },
   "source": [
    "## Statistische Diagramme mit Altair\n",
    "\n",
    "Bei den bisher vorgestellten \"einfachen\" Diagrammen werden die Daten unverändert visualisiert. Bei den folgenden statistischen Diagrammen erfolgt eine Vorverarbeitung (z.B.Binning bei Histogrammen) oder Ableitung von relevanten Intervallen (z.B. Quantile bei Boxplots), die eine bessere Beurteilung der Verteilungsmuster der Daten erlauben."
   ]
  },
  {
   "cell_type": "markdown",
   "metadata": {
    "id": "s3o93fnqJ_0s"
   },
   "source": [
    "### Histogramme\n",
    "\n",
    "Im folgenden sollen Histogramme am Beispiel der Altersverteilung von Hauptdiagnosen im Kurs-DWH dargestellt werden.\n",
    "\n",
    "Wir laden dafür zunächst einen Rohdatensatz aus nicht aggregierten Aufnahmealtersangaben mit Bezug auf das jeweilige Kapitel des ICD10-Diagnosecodes. Der Datensatz liegt also anders als in den vorherigen Beispielen nicht bereits aggregiert vor, sondern enthält Einzelangaben zum Alter pro Behandlungsfall mit dem Kapitel der dokumentierten Hauptdiagnose.\n",
    "\n",
    "🛑 Caveat: Altair generiert zur Visualisierung eine JavaScript-Datei, die sowohl den Code zur Erzeugung des Diagramms als auch die benötigten Daten (im JSON-Format) enthält. Aufgrund der Größe dieser Datei gibt es eine Begrenzung für die Anzahl der mit Altair darstellbaren Datensätze (defaultmäßig bis zu 5.000 Zeilen)."
   ]
  },
  {
   "cell_type": "code",
   "execution_count": null,
   "metadata": {
    "id": "71va3yURNwtX"
   },
   "outputs": [],
   "source": [
    "# ...\n",
    "sql = \"\"\"\n",
    "SELECT dkt.kapitel_id,\n",
    "       dkt.kapitel_name,\n",
    "       fal.aufnahmealter_jahre\n",
    "  FROM f_faelle   fal\n",
    "  JOIN d_diagnose dkt ON fal.hauptdiagnose_snomed_id = dkt.snomed_id\n",
    " WHERE dkt.kapitel_name <> ''\n",
    "\"\"\"\n",
    "resultset = %sql $db_url_reporting $sql\n",
    "df_aufnahmealter = resultset.DataFrame()\n",
    "df_aufnahmealter.head()"
   ]
  },
  {
   "cell_type": "markdown",
   "metadata": {
    "id": "jXFyMMUpq4IW"
   },
   "source": [
    "Histogramme werden in Pandas wie normale Säulendiagramme mit der `mark_bar()`-Methode erzeugt, jedoch wird beim Encoding der X-Achse das Attribut `bin=True` angegeben. Hierdurch werden die Einzelwerte in Klassen zusammengefasst. Durch die Angabe von `count()` beim Encoding der Y-Achse wird als Kennzahl die Anzahl der pro Klasse enthaltenen Datensätze verwendet.\n",
    "\n",
    "Für das folgende Diagramm filtern wir den geladenen Dataframe nur auf das ICD10-Kapitel E (Metabolische Erkrankungen)."
   ]
  },
  {
   "cell_type": "code",
   "execution_count": null,
   "metadata": {
    "id": "mAIJ5HWuOJV2"
   },
   "outputs": [],
   "source": [
    "alt.Chart(df_aufnahmealter.query(\"kapitel_id=='E'\")) \\\n",
    "  .mark_bar() \\\n",
    "  .encode(\n",
    "    x = alt.X(\"aufnahmealter_jahre:Q\", bin=True),\n",
    "    y = alt.Y('count()')\n",
    "  )"
   ]
  },
  {
   "cell_type": "markdown",
   "metadata": {
    "id": "_BWcNmsqsj8q"
   },
   "source": [
    "Sofern nur das Attribut `bin=true()` gesetzt ist, bestimmt Altair eigenständig die Anzahl der Klassen. mit der Funktion `alt.Bin(maxbins=<Anzahl>)` kann die Anzahl der Kalssen beeinflusst werden, um z.B. eine feingranularere Darstellung zu erhalten:"
   ]
  },
  {
   "cell_type": "code",
   "execution_count": null,
   "metadata": {
    "id": "Rh7K2ZBIrBHh"
   },
   "outputs": [],
   "source": [
    "alt.Chart(df_aufnahmealter.query(\"kapitel_id=='E'\")) \\\n",
    "  .mark_bar() \\\n",
    "  .encode(\n",
    "    x = alt.X(\"aufnahmealter_jahre:Q\", bin=alt.Bin(maxbins=40)),\n",
    "    y = alt.Y('count()')\n",
    "  )"
   ]
  },
  {
   "cell_type": "markdown",
   "metadata": {
    "id": "5bA0vzNBs6Dj"
   },
   "source": [
    "Auch bei Histogrammen können Farben benutzt werden, um verschiedene Gruppen von Daten in einem Diagramm darzustellen. Im folgenden Beispiel passen wir die Filterung an, um neben den metabolischen Erkrankungen (ICD10-Kapitel E) auch noch das Kapitel P (Erkrankungen der Perinatalperiode) aufzunehmen und im Vergleich auszuwerten.\n",
    "\n",
    "Wir setzen das Attribut `color` im Encoding und ordnen ihm den ICD10-Kapitelnamen zu, um die beiden Kapitel im Diagramm differenzieren zu können. Um beide Verteilungen nebeneinander interpretieren zu können, sollten sie nicht (wie beim Flächendiagramm oben) aufeinander gestapelt sein, sondern sich überlagern. Hierzu setzen wir im Encoding der Y-Achse die Option `stack=None` sowie eine halbtransparente Darstellung durch `mark_bar(opacity=0.3)`. Auch hier verwenden wir das `tooltip`-Attribut, um per Mouseover Details zum jeweiligen Balken des Histogramms anzuzeigen."
   ]
  },
  {
   "cell_type": "code",
   "execution_count": null,
   "metadata": {
    "id": "h59Dmu2upO-7"
   },
   "outputs": [],
   "source": [
    "alt.Chart(df_aufnahmealter.query(\"kapitel_id.isin(['E', 'P'])\")) \\\n",
    "  .mark_bar(opacity=0.3) \\\n",
    "  .encode(\n",
    "    x = alt.X(\"aufnahmealter_jahre:Q\", bin=alt.Bin(maxbins=40)),\n",
    "    y = alt.Y(\"count()\", stack=None),\n",
    "    color = alt.Color(\"kapitel_name:N\"),\n",
    "    tooltip = alt.Tooltip([\"kapitel_name\", \"count()\"])\n",
    "  )"
   ]
  },
  {
   "cell_type": "markdown",
   "metadata": {
    "id": "Ziyld6PDusaq"
   },
   "source": [
    "### Boxplots\n",
    "\n",
    "Boxplots dienen dazu, Verteilungen mehrerer gruppierter Daten übersichtlich mit Hilfe von Quantilen (typischerweise Quartilen) darzustellen. Die \"Box\" umfasst dabei jeweils 25% der Werte (Quartile) oberhalb und unterhalb des Medians (Strich in der Mitte der Box), während die Fehlerbalken Werte bis zum 1,5-fachen Interquartilsabstand umfassen. Werte außerhalb dieses Bereichs werden als \"Ausreißer\" durch kleine Kreise dargestellt.\n",
    "\n",
    "Für das folgende Beispiel verwenden wir den gleichen Datensatz wie im Histogramm oben und setzen die Altair-Methode `mark_boxplot()` ein."
   ]
  },
  {
   "cell_type": "code",
   "execution_count": null,
   "metadata": {
    "id": "xHEjjXQ7q7W2"
   },
   "outputs": [],
   "source": [
    "alt.Chart(df_aufnahmealter.query(\"kapitel_id.isin(['E', 'P'])\")) \\\n",
    "  .mark_boxplot() \\\n",
    "  .encode(\n",
    "    x = alt.X(\"kapitel_id:O\"),\n",
    "    y = alt.Y(\"aufnahmealter_jahre:Q\"),\n",
    "    color = alt.Color(\"kapitel_name:N\"),\n",
    "    tooltip = alt.Tooltip([\"kapitel_name\", \"count()\"])\n",
    "  )"
   ]
  },
  {
   "cell_type": "markdown",
   "metadata": {
    "id": "lccNA1mh77rX"
   },
   "source": [
    "## Kombination von Diagrammen\n",
    "\n",
    "Eine Möglichkeit zur Kombination mehrere Diagramme haben wir oben beim Pie-Chart gezeigt (Pie-Chart und Beschriftungen wurden separat generiert & dann zusammengeführt). Auf dem gleichen Weg können auch verschiedene Diagrammtypen (z.B. Säulen- & Liniendiagramm) kombiniert werden.\n",
    "\n",
    "An dieser Stelle soll als zusätzliche Möglichkeit noch gezeigt werden, ein Diagramm auf mehrere Teilgrafiken aufzuteilen, ohne dass dafür zunächst einzelne Abbildungen erzeugt & zusammengeführt werden müssen."
   ]
  },
  {
   "cell_type": "markdown",
   "metadata": {
    "id": "qLj-LHm_78fl"
   },
   "source": [
    "### Facetten\n",
    "\n",
    "Mit \"Facetten\" kann ein Diagramm automatisch auf mehrere Teildiagramme aufgeteilt werden.\n",
    "\n",
    "Hierfür laden wir zunächst eine weitere Aggregation von Fallzahlen nach Diagnosekapitel in einem Dataframe:"
   ]
  },
  {
   "cell_type": "code",
   "execution_count": null,
   "metadata": {
    "id": "NMy3e-RvsCp1"
   },
   "outputs": [],
   "source": [
    "# Fallzahlen zu den dokumentierten Diagnosen (ICD10-Kapitel) auswerten\n",
    "sql = \"\"\"\n",
    "SELECT dkt.kapitel_id,\n",
    "       dkt.kapitel_id || ' ' || dkt.kapitel_name AS kapitel_name,\n",
    "       FLOOR(fal.aufnahmealter_jahre) AS aufnahmealter_jahre,\n",
    "       COUNT(*)                       AS fallzahl\n",
    "  FROM f_faelle   fal\n",
    "  JOIN d_diagnose dkt ON fal.hauptdiagnose_snomed_id = dkt.snomed_id\n",
    " WHERE dkt.kapitel_name <> ''\n",
    " GROUP BY dkt.kapitel_id,\n",
    "       dkt.kapitel_id || ' ' || dkt.kapitel_name,\n",
    "       FLOOR(fal.aufnahmealter_jahre)\n",
    "\"\"\"\n",
    "resultset = %sql $db_url_reporting $sql\n",
    "df_diagnosealter = resultset.DataFrame()\n",
    "df_diagnosealter.head()"
   ]
  },
  {
   "cell_type": "markdown",
   "metadata": {
    "id": "f0Hro37GCJCw"
   },
   "source": [
    "Im Encoding eines Charts kann mit dem `facet`-Attribut eine Spalte festgelegt werden, für deren Ausprägungen jeweils automatisch ein eigenes Diagramm erstellt wird. Altair ordnet diese Diagramme automatisch in einem Raster an. Als Option des `facet`-Attributs kann mit `rows` und/oder `columns` optional die Zahl der Zeilen & Spalten des Rasters festgelegt werden.\n",
    "\n",
    "Hinweis: die Angaben zur Größe des Diagramms in der `properties()`-Methode beziehen sich bei einem facettierten Diagramm auf die Einzelgrafiken, nicht auf das zusammengefügte Gesamtdiagramm."
   ]
  },
  {
   "cell_type": "code",
   "execution_count": null,
   "metadata": {
    "id": "_-VIWp02oZJq"
   },
   "outputs": [],
   "source": [
    "alt.Chart(df_diagnosealter) \\\n",
    "  .mark_bar() \\\n",
    "  .encode(\n",
    "    x = alt.X(\"aufnahmealter_jahre:Q\", bin=alt.Bin(maxbins=40), title=\"Aufnahmealter\"),\n",
    "    y = alt.Y('fallzahl:Q', aggregate=\"sum\", title=\"Fallzahl\"),\n",
    "    facet = alt.Facet(\"kapitel_id:O\", columns=5),\n",
    "    color = alt.Color(\"kapitel_name\")\n",
    "  ) \\\n",
    "  .properties(\n",
    "    title  = \"Altersverteilung nach Diagnosekapitel\",\n",
    "    width  = 90,\n",
    "    height = 80\n",
    "  )"
   ]
  },
  {
   "cell_type": "markdown",
   "metadata": {
    "id": "m1JoHSlRA6Vi"
   },
   "source": [
    "## Geovisualisierung\n",
    "\n",
    "Bei Geovisualisierung werden Daten auf Landkarten abgebildet. Die Daten können dabei über Längen- & Breitengrade einen expliziten Bezug zu einer geographischen Position mitbringen. Wenn nur ein indirekter Bezug über eine Adresse vorliegt, muss diese zunächst geocodiert werden. Entsprechende Services gibt es kostenpflichtig (z.B. von Google oder Microsoft), aber auch kostenfrei bzw. zum Betrieb auf einer eigenen Infrastruktur (z.B. OpenStreetMap Nominatim).\n",
    "\n",
    "🛑 Caveat: Exakte Adressen (z.B. von Patienten) sind in der Regel als personenbezogene Daten anzusehen und sollten daher nicht ohne weiteres über einen externen Service geocodiert werden, da hierbei ggf. eine unerwünschte Weitergabe von personenbezogenen Informationen an Dritte erfolgt. Es sollte entweder ein lokal installierter Geocoding-Service (z.B. Nominatim) genutzt oder eine vergröberte Form der Adrese (z.B. PLZ, Gemeindekennziffer) genutzt werden.\n",
    "\n",
    "Für die Geovisualisierung laden wir zunächst die im Kurs-DWH schon vorhandenen Ortsangaben (mit Längen- & Breitengrad) der (synthetischen) Patienten und Versorgungseinrichtungen:"
   ]
  },
  {
   "cell_type": "code",
   "execution_count": null,
   "metadata": {
    "id": "XPlVFF_GFQ8a"
   },
   "outputs": [],
   "source": [
    "# Geokoordinaten der Patient:innen auslesen\n",
    "sql = \"\"\"\n",
    "SELECT patient_id,\n",
    "       patient_nachname || ', ' || patient_vorname AS patient_name,\n",
    "       patient_lat,\n",
    "       patient_lon\n",
    "  FROM d_patient\n",
    "\"\"\"\n",
    "resultset = %sql $db_url_reporting $sql\n",
    "df_patienten = resultset.DataFrame()\n",
    "df_patienten.head()"
   ]
  },
  {
   "cell_type": "code",
   "execution_count": null,
   "metadata": {
    "id": "ByJ3DOgHE9Tb"
   },
   "outputs": [],
   "source": [
    "# Geokoordinaten der Versorgungseinrichtungen & ihre Fallzahl auslesen\n",
    "sql = \"\"\"\n",
    "SELECT org.einrichtung_id,\n",
    "       org.einrichtung_name,\n",
    "       org.einrichtung_lat,\n",
    "       org.einrichtung_lon,\n",
    "       COUNT(*) AS fallzahl\n",
    "  FROM      d_orga org\n",
    "  LEFT JOIN f_faelle fal ON org.einrichtung_id = fal.einrichtung_id\n",
    " GROUP BY org.einrichtung_id,\n",
    "       org.einrichtung_name,\n",
    "       org.einrichtung_lat,\n",
    "       org.einrichtung_lon\n",
    "\"\"\"\n",
    "resultset = %sql $db_url_reporting $sql\n",
    "df_einrichtungen = resultset.DataFrame()\n",
    "df_einrichtungen.head()"
   ]
  },
  {
   "cell_type": "markdown",
   "metadata": {
    "id": "8cY9BEZyIAqI"
   },
   "source": [
    "Für die interaktive Geovisualisierung nutzen wir das *Folium*-Package. Es stellt die JavaScript-basierte Leaflet-Bibliothek in Python zur Verfügung, mit der verschiedene Basiskarten (z.B. OpenStreetMap) als Hintergrund genutzt und eine Reihe von Markern oder auch Polygonen darauf platziert werden können.\n",
    "\n",
    "Mit der Methode `folium.Map()` wird zunächst die Basiskarte erzeugt. Hierbei sollte eine Geokoordinate mit Längen-/Breitengrad sowie ein Zoom-Faktor für den initial anzuzeigenden Kartenausschnitt angegeben werden. Die Karte kann in dieser Form bereits angezeigt und per Pan & Zoom verändert werden.\n",
    "\n",
    "Mit der Methode `folium.CircleMaker` können Kreise auf der Karte platziert werden. Hierfür iterieren wir mit der Methode `itertuples()` über die Zeilen des Dataframes und setzen die Längen-/Breitengradangaben sowie ggf. Größenangaben als Parameter ein. Optional kann wieder ein `tooltip`-Parameter gesetzt werden, um per Mouseover-Effekt Details zu einem Marker anzuzeigen. Die Methode `add_to()` fügt den jeweils erzeugten Marker in die Basiskarte ein."
   ]
  },
  {
   "cell_type": "code",
   "execution_count": null,
   "metadata": {
    "id": "PYapt8gHG2NK"
   },
   "outputs": [],
   "source": [
    "# Basiskarte erzeugen und Mittelpunkt/Zoomfaktor auf Anzeige des gesamten Bundesgebiets setzen\n",
    "map = folium.Map(location=[51.287819, 10.099264], zoom_start=6)\n",
    "\n",
    "# Über Patienten iterieren und für jeden Patienten einen CircleMaker mit Größe 2 in rot einsetzen\n",
    "for row in df_patienten.itertuples():\n",
    "    folium.CircleMarker(location=[row.patient_lat,row.patient_lon],\n",
    "                        radius=2,\n",
    "                        color=\"red\",\n",
    "                        fill=True,\n",
    "                        opacity=0.5,\n",
    "                        tooltip=row.patient_name).add_to(map)\n",
    "\n",
    "# Über Versorgungseinrichtungen iterieren und jeweils einen CircleMaker mit fallzahlbezogener Größe in blau einsetzen\n",
    "for row in df_einrichtungen.itertuples():\n",
    "    folium.CircleMarker(location=[row.einrichtung_lat,row.einrichtung_lon],\n",
    "                        radius=row.fallzahl/250,\n",
    "                        color=\"blue\",\n",
    "                        fill=True,\n",
    "                        opacity=0.5,\n",
    "                        tooltip=row.einrichtung_name + f\" ({row.fallzahl})\").add_to(map)\n",
    "\n",
    "# Karte anzeigen\n",
    "map"
   ]
  }
 ],
 "metadata": {
  "colab": {
   "authorship_tag": "ABX9TyOKj5hYW4NbzOBG6ffTJAjT",
   "provenance": [
    {
     "file_id": "1BKCcgS8zssyHgOmY-p6uD5JtTzI63Jlb",
     "timestamp": 1715515667455
    },
    {
     "file_id": "https://github.com/fau-lmi/lct-ehealth-datawarehouse/blob/main/01-01-Extraktion-Demo.ipynb",
     "timestamp": 1714911186628
    },
    {
     "file_id": "1BL6fz2-jOCEmlbHL_LUVxhtHzK709prp",
     "timestamp": 1714904625208
    }
   ],
   "toc_visible": true
  },
  "kernelspec": {
   "display_name": "Python (venv)",
   "language": "python",
   "name": "venv"
  },
  "language_info": {
   "codemirror_mode": {
    "name": "ipython",
    "version": 3
   },
   "file_extension": ".py",
   "mimetype": "text/x-python",
   "name": "python",
   "nbconvert_exporter": "python",
   "pygments_lexer": "ipython3",
   "version": "3.13.2"
  }
 },
 "nbformat": 4,
 "nbformat_minor": 4
}
