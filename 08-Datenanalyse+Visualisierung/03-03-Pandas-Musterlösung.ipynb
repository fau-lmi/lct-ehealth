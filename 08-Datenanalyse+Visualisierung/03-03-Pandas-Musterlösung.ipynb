{
 "cells": [
  {
   "cell_type": "markdown",
   "metadata": {
    "id": "SvxhKbdnO7j3"
   },
   "source": [
    "# 03-03 Pandas-Musterlösung\n",
    "\n",
    "## Hinweise zur Übung\n",
    "\n",
    "Diese Übung orientiert sich an den Aufgaben der vorherigen SQL-Übung, aber Sie setzen alles mit Pandas-Funktionen statt SQL-Abfragen um."
   ]
  },
  {
   "cell_type": "markdown",
   "metadata": {
    "id": "bbsb3U9UkAl1"
   },
   "source": [
    "## Konfiguration des Notebooks"
   ]
  },
  {
   "cell_type": "code",
   "execution_count": null,
   "metadata": {
    "id": "1D0zfQ-IzSGk"
   },
   "outputs": [],
   "source": [
    "# Ggf. fehlende Pakete installieren\n",
    "!pip install --quiet ipython-sql pandas"
   ]
  },
  {
   "cell_type": "code",
   "execution_count": null,
   "metadata": {
    "id": "44KM1u1Zzn3-"
   },
   "outputs": [],
   "source": [
    "import os\n",
    "import sys\n",
    "import urllib.request\n",
    "import gzip\n",
    "import shutil\n",
    "import pandas\n",
    "%load_ext sql\n",
    "%config SqlMagic.style = '_DEPRECATED_DEFAULT'"
   ]
  },
  {
   "cell_type": "code",
   "execution_count": null,
   "metadata": {
    "id": "MP1zDb_s0-rq"
   },
   "outputs": [],
   "source": [
    "# Konfiguration\n",
    "base_url_quellen   = \"https://raw.githubusercontent.com/fau-lmi/lct-ehealth/main/08-Datenanalyse+Visualisierung/data\"\n",
    "base_url_reporting = \"./\""
   ]
  },
  {
   "cell_type": "code",
   "execution_count": null,
   "metadata": {
    "id": "4IYsvJsGthEU"
   },
   "outputs": [],
   "source": [
    "# SQlite-Datenbanken aus Github auf den Jupyter-Server herunterladen\n",
    "urllib.request.urlretrieve(base_url_quellen + \"/dwh/reporting.sqlite.gz\", base_url_reporting + \"reporting.sqlite.gz\")\n",
    "\n",
    "# Die Sqlite-Datenbank ist aufgrund ihrer Größe gezipped und muss vor der Nutzung noch entpackt werden\n",
    "with gzip.open(base_url_reporting + \"reporting.sqlite.gz\", \"rb\") as f_in:\n",
    "    with open(base_url_reporting + \"reporting.sqlite\", \"wb\") as f_out:\n",
    "        shutil.copyfileobj(f_in, f_out)"
   ]
  },
  {
   "cell_type": "code",
   "execution_count": null,
   "metadata": {
    "id": "p_O_S1FO6crA"
   },
   "outputs": [],
   "source": [
    "# Datenbankverbindung als Pfad (für das ETL) & iPython SQL (für die Abfragen) herstellen\n",
    "db_path_reporting      = base_url_reporting + \"reporting.sqlite\"\n",
    "\n",
    "db_url_reporting      = \"sqlite:///\" + db_path_reporting\n",
    "\n",
    "%sql $db_url_reporting"
   ]
  },
  {
   "cell_type": "markdown",
   "metadata": {
    "id": "2hk6avHq7J62"
   },
   "source": [
    "## Laden von Daten aus der SQLite-Datenbank in Dataframes\n",
    "\n",
    "Der Abschnitt zum Laden der Tabellen D_PATIENT, F_FAELLE, D_FALLART und D_DIAGNOSE wird hier 1:1 übernommen.\n"
   ]
  },
  {
   "cell_type": "code",
   "execution_count": null,
   "metadata": {
    "id": "R7Gb75Sb6smZ"
   },
   "outputs": [],
   "source": [
    "# Abfrage der Tabelle D_PATIENT und Ablage in Dataframe df_patient\n",
    "sql = \"\"\"\n",
    "SELECT *\n",
    "  FROM d_patient\n",
    "\"\"\"\n",
    "resultset = %sql $db_url_reporting $sql\n",
    "df_patient = resultset.DataFrame()\n",
    "df_patient.head()"
   ]
  },
  {
   "cell_type": "code",
   "execution_count": null,
   "metadata": {
    "id": "KyuexSOSQMmE"
   },
   "outputs": [],
   "source": [
    "# Abfrage der Tabelle F_FAELLE und Ablage in Dataframe df_faelle\n",
    "sql = \"\"\"\n",
    "SELECT *\n",
    "  FROM f_faelle\n",
    "\"\"\"\n",
    "resultset = %sql $db_url_reporting $sql\n",
    "df_faelle = resultset.DataFrame()\n",
    "df_faelle.head()"
   ]
  },
  {
   "cell_type": "code",
   "execution_count": null,
   "metadata": {
    "id": "NTesd0NpOtl6"
   },
   "outputs": [],
   "source": [
    "# Abfrage der Tabelle D_FALLART und Ablage in Dataframe df_fallart\n",
    "sql = \"\"\"\n",
    "SELECT *\n",
    "  FROM d_fallart\n",
    "\"\"\"\n",
    "resultset = %sql $db_url_reporting $sql\n",
    "df_fallart = resultset.DataFrame()\n",
    "df_fallart.head()"
   ]
  },
  {
   "cell_type": "code",
   "execution_count": null,
   "metadata": {
    "id": "aZ59qDAMPf4x"
   },
   "outputs": [],
   "source": [
    "# Abfrage der Tabelle D_DIAGNOSE und Ablage in Dataframe df_diagnose\n",
    "sql = \"\"\"\n",
    "SELECT *\n",
    "  FROM d_diagnose\n",
    "\"\"\"\n",
    "resultset = %sql $db_url_reporting $sql\n",
    "df_diagnose = resultset.DataFrame()\n",
    "df_diagnose.head()"
   ]
  },
  {
   "cell_type": "markdown",
   "metadata": {
    "id": "FYH8ytjEaG8f"
   },
   "source": [
    "### Aufgabe: Laden Sie die Tabelle D_ORGA in den Dataframe df_orga"
   ]
  },
  {
   "cell_type": "code",
   "execution_count": null,
   "metadata": {
    "id": "yeI0X0CeaHEc"
   },
   "outputs": [],
   "source": [
    "# Abfrage der Tabelle D_ORGA und Ablage in Dataframe df_orga\n",
    "sql = \"\"\"\n",
    "SELECT *\n",
    "  FROM d_orga\n",
    "\"\"\"\n",
    "resultset = %sql $db_url_reporting $sql\n",
    "df_orga = resultset.DataFrame()\n",
    "df_orga.head()"
   ]
  },
  {
   "cell_type": "markdown",
   "metadata": {
    "id": "l7FU7pqDSuPO"
   },
   "source": [
    "## Einfache Abfragen auf Datafames\n"
   ]
  },
  {
   "cell_type": "markdown",
   "metadata": {
    "id": "l4mCqWSSTln1"
   },
   "source": [
    "### Aufgabe: Fragen Sie nur die Spalten `fall_id`, `aufnahme_datum` und `entlass_datum` des Dataframes `df_faelle` ab"
   ]
  },
  {
   "cell_type": "code",
   "execution_count": null,
   "metadata": {
    "id": "vqSP-kEdTl0G"
   },
   "outputs": [],
   "source": [
    "# Nur die Spalten fall_id, aufnahme_datum & entlass_datum ausgeben\n",
    "df_faelle[[\"fall_id\", \"aufnahme_datum\", \"entlass_datum\"]].head()"
   ]
  },
  {
   "cell_type": "markdown",
   "metadata": {
    "id": "eNWroddGb0yY"
   },
   "source": [
    "### Aufgabe: Fragen Sie männliche Patienten aus dem Datafram `df_patient` ab (alle Spalten)"
   ]
  },
  {
   "cell_type": "code",
   "execution_count": null,
   "metadata": {
    "id": "cFnO_DKdb06m"
   },
   "outputs": [],
   "source": [
    "# Dataframe df_patient auf männliche filtern und erste Zeilen ausgeben\n",
    "df_patient.query(\"patient_geschlecht == 'M'\").head()"
   ]
  },
  {
   "cell_type": "markdown",
   "metadata": {
    "id": "C3DfPcwkUrR8"
   },
   "source": [
    "## Abfragen über mehrere verbundene Dataframes"
   ]
  },
  {
   "cell_type": "markdown",
   "metadata": {
    "id": "09uLxupAYB7o"
   },
   "source": [
    "### Aufgabe: Mergen Sie die Dataframes `df_patient` und `df_faelle` und zeigen Sie die ersten Zeilen (alle Spalten) an"
   ]
  },
  {
   "cell_type": "code",
   "execution_count": null,
   "metadata": {
    "id": "f9ZbXQOnUsaa"
   },
   "outputs": [],
   "source": [
    "# Dataframes df_patient und df_faelle über Schlüsselspalte fall_id mergen und erste Zeilen ausgeben\n",
    "df_patient.merge(df_faelle, on=\"patient_id\").head()"
   ]
  },
  {
   "cell_type": "markdown",
   "metadata": {
    "id": "kt-9PCrqdI8X"
   },
   "source": [
    "### Aufgabe: Ergänzen Sie die Abfrage um einen INNER JOIN mit dem Dataframe `df_fallart'\n",
    "\n",
    "Geben Sie nur die folgenden Spalten aus:\n",
    "* df_patient: patient_id, patient_nachname\n",
    "* df_faelle: aufnahme_datum, entlass_datum\n",
    "* df_fallart: fallart_name\n",
    "\n",
    "💡 Hinweis: es kann sein, dass Sie Spalten, die als Join-Kriterien benötigt werden, zunächst einbeziehen und später per `drop()`-Methode wieder entfernen müssen, da anders als bei SQL-Datenbanken nur Spalten genutzt werden können, die in dieser Phase der Pipeline auch noch im Dataframe vorhanden sind. In SQL kann dagegen für die Join-Kriterien auf alle Spalten zugegriffen werden, auch wenn sie im `SELECT`-Abschnitt nicht aufgeführt sind."
   ]
  },
  {
   "cell_type": "code",
   "execution_count": null,
   "metadata": {
    "id": "DTEEdLyXdJEr"
   },
   "outputs": [],
   "source": [
    "# Vorherige Abfrage um merge zu Dataframe df_fallart (über fallart_id) erweitern\n",
    "# und nur die vorgegebenen Spalten auslesen\n",
    "df_patient[[\"patient_id\", \"patient_nachname\"]] \\\n",
    "  .merge(df_faelle[[\"patient_id\", \"fallart_id\", \"aufnahme_datum\", \"entlass_datum\"]], on=\"patient_id\") \\\n",
    "  .merge(df_fallart, on=\"fallart_id\") \\\n",
    "  .drop(columns=\"fallart_id\") \\\n",
    "  .head()"
   ]
  },
  {
   "cell_type": "markdown",
   "metadata": {
    "id": "l_6a5y2YeNaL"
   },
   "source": [
    "### Aufgabe: Ergänzen Sie die vorherige Abfrage um einen LEFT OUTER JOIN, um den Bezeichner der Hauptdiagnose anzuzeigen\n",
    "\n",
    "Achten Sie darauf, dass Fälle mit fehlender Hauptdiagnose weiterhin sichtbar bleiben. Geben Sie dazu das gesamte Ergebnis aus, statt mit der `head()`-Methode nur auf die ersten Zeilen zu beschränken. Sie können das Tabellen-Icon rechts neben dem Output nutzen, um eine interaktiv blätter- und sortierbare Anzeige zu erhalten."
   ]
  },
  {
   "cell_type": "code",
   "execution_count": null,
   "metadata": {
    "id": "r_WX0d5eeNjw"
   },
   "outputs": [],
   "source": [
    "# Vorherige Abfrage um merge zu Dataframe d_diagnose (über hauptdiagnose_snomed_id/snomed_id) erweitern\n",
    "# und nur die vorgegebenen Spalten auslesen\n",
    "df_patient[[\"patient_id\", \"patient_nachname\"]] \\\n",
    "  .merge(df_faelle[[\"patient_id\", \"fallart_id\", \"aufnahme_datum\", \"entlass_datum\", \"hauptdiagnose_snomed_id\"]], on=\"patient_id\") \\\n",
    "  .merge(df_fallart, on=\"fallart_id\") \\\n",
    "  .merge(df_diagnose[[\"snomed_id\", \"snomed_name\"]], left_on=\"hauptdiagnose_snomed_id\", right_on=\"snomed_id\", how=\"left\") \\\n",
    "  .drop(columns=[\"fallart_id\", \"hauptdiagnose_snomed_id\"])"
   ]
  },
  {
   "cell_type": "markdown",
   "metadata": {
    "id": "QEPVGwGTgKCh"
   },
   "source": [
    "### Aufgabe: Geben Sie Einrichtungen aus, die keine Behandlungsfälle hatten\n",
    "\n",
    "Die Entsprechung des `IS NULL`-Operators, der in SQL zur Selektion leerer Spalten verwendet wird, ist die `isna()`-funktion, die in der `query()`-Methode verwendet werden kann."
   ]
  },
  {
   "cell_type": "code",
   "execution_count": null,
   "metadata": {
    "id": "dgKb9zo2gKLv"
   },
   "outputs": [],
   "source": [
    "# LEFT OUTER Merge des Dataframe df_orga mit dem Dataframe df_faelle\n",
    "# und Filterung auf leere Fall-Datensätze\n",
    "df_orga.merge(df_faelle, on=\"einrichtung_id\", how=\"left\")\\\n",
    "  .query(\"fall_id.isna()\")"
   ]
  },
  {
   "cell_type": "markdown",
   "metadata": {
    "id": "Ug9BBLi4hgVz"
   },
   "source": [
    "## Aggregation von Daten\n",
    "\n",
    "In den folgenden Abfragen benötigen Sie Gruppierungsmerkmale und Aggregatfunktionen, um Daten über mehrere Tabellenzeilen hinweg zusammengefasst auszuwerten."
   ]
  },
  {
   "cell_type": "markdown",
   "metadata": {
    "id": "1A7Z_Hqehghj"
   },
   "source": [
    "### Aufgabe: Berechnen Sie den aufsummierten Gesamterlös pro Einrichtung\n",
    "\n",
    "Geben Sie dazu die die folgenden Spalten aus:\n",
    "* df_orga: `standort_name`,  `einrichtung_name`\n",
    "* df_faelle: Summe von `erloes_fallpauschale`"
   ]
  },
  {
   "cell_type": "code",
   "execution_count": null,
   "metadata": {
    "id": "AHCtIgAyhsLj"
   },
   "outputs": [],
   "source": [
    "# Dataframes df_orga und df_faelle (über \"einrichtung_id\") mergen,\n",
    "# anschließend die nur für den Merge nötige Spalte \"einrichtung_id\" droppen\n",
    "# danach über die Spalten \"standort_name\" und \"einrichtung_name\" gruppieren\n",
    "# und \"erloes_fallpauschale\" summieren\n",
    "df_orga[[\"standort_name\", \"einrichtung_id\", \"einrichtung_name\"]] \\\n",
    "  .merge(df_faelle[[\"einrichtung_id\", \"erloes_fallpauschale\"]]) \\\n",
    "  .drop(columns=\"einrichtung_id\") \\\n",
    "  .groupby([\"standort_name\", \"einrichtung_name\"]) \\\n",
    "  .agg({'erloes_fallpauschale': 'sum'})"
   ]
  },
  {
   "cell_type": "markdown",
   "metadata": {
    "id": "PV4smm2Rjowb"
   },
   "source": [
    "### Aufgabe: Ergänzen Sie die Abfrage um die Fallzahl und den mittleren Erlös und filtern auf stationäre Fälle\n",
    "\n",
    "Hinweise:\n",
    "* stationäre Fälle haben die Fallart \"inpatient\"\n",
    "* speichern Sie das Ergebnis in einen neuen Dataframe \"df_auswertung\", damit wir es in den folgenden Aufgaben weiternutzen können."
   ]
  },
  {
   "cell_type": "code",
   "execution_count": null,
   "metadata": {
    "id": "5Tr72PCZjo4u"
   },
   "outputs": [],
   "source": [
    "# Vorherige Abfrage um merge mit Dataframe df_fallart ergänzen,\n",
    "# auf Fallart \"inpatient\" filtern und das Ergebnis in den Dataframe \"df_auswertung\" speichern\n",
    "df_auswertung = df_orga[[\"standort_name\", \"einrichtung_id\", \"einrichtung_name\"]] \\\n",
    "  .merge(df_faelle[[\"einrichtung_id\", \"fallart_id\", \"erloes_fallpauschale\"]]) \\\n",
    "  .merge(df_fallart, on=\"fallart_id\") \\\n",
    "  .query(\"fallart_name == 'inpatient'\") \\\n",
    "  .drop(columns=[\"einrichtung_id\", \"fallart_id\", \"fallart_name\"]) \\\n",
    "  .groupby([\"standort_name\", \"einrichtung_name\"]) \\\n",
    "  .agg(fallzahl=(\"einrichtung_name\", \"size\"), erloes_sum=(\"erloes_fallpauschale\", \"sum\"), erloes_avg=(\"erloes_fallpauschale\", \"mean\"))\n",
    "df_auswertung"
   ]
  },
  {
   "cell_type": "markdown",
   "metadata": {
    "id": "8o9-gcDywSdU"
   },
   "source": [
    "### Aufgabe: Ergänzen Sie die vorherige Abfrage um einen Filter auf Einrichtungen mit mehr als 50 Fällen und sortieren das Ergebnis absteigend nach Gesamterlös"
   ]
  },
  {
   "cell_type": "code",
   "execution_count": null,
   "metadata": {
    "id": "Cblv7qdewSlN"
   },
   "outputs": [],
   "source": [
    "# Ergebnis der vorherigen Abfrage auf Einträge mit mehr als 50 Fällen filtern\n",
    "# und absteigend nach Erlös sortieren\n",
    "df_auswertung.query(\"fallzahl > 50\") \\\n",
    "  .sort_values(by=\"erloes_sum\", ascending=False)"
   ]
  },
  {
   "cell_type": "markdown",
   "metadata": {
    "id": "M_BEP8zf8Mf0"
   },
   "source": [
    "## Pivotieren von Daten zwischen \"wide\"- und \"long\"-Formaten\n",
    "\n",
    "Wir nutzen die `melt()`- und `pivot()`-Funktionen von Pandas, um den Dataframe `df_auswertung`, der ein \"wide\"-Format hat, in ein \"long\"-Format zu transformieren und anschließend wieder in ein \"wide\"-Format umzuklappen."
   ]
  },
  {
   "cell_type": "markdown",
   "metadata": {
    "id": "FgaWPJok8M_9"
   },
   "source": [
    "### Auswertung in \"long\"-Format transformieren\n",
    "\n",
    "Hinweise:\n",
    "* Anders als in der Demo enthält der Dataframe zwei identifizierende Spalten (standort_name, einrichtung_name).\n",
    "* Die Bezeichner der Kennzahlen sollen in der Spalte \"kennzahl\" und die Inhalte in der Spalte \"wert\"! abgelegt werden.\n",
    "* 🛑 Aufgrund der vorher durchgeführten Aggregation liegt der Dataframe als \"Series\"-Objekt vor. Dieses muss zunächst mit der Methode `reset_index()` in einen regulären Dataframe umgewandelt werden, damit die `melt()`-methode angewendet werden kann.\n",
    "* Speichern Sie das Ergebnis im neuen Dataframe \"df_auswertung_long\""
   ]
  },
  {
   "cell_type": "code",
   "execution_count": null,
   "metadata": {
    "id": "0CboHQx_8zye"
   },
   "outputs": [],
   "source": [
    "# Spalten standort_name und einrichtung_name als identifizierende beibehalten,\n",
    "# restliche Spalten umklappen und dazu die Spaltennamen in die Spalte \"kennzahl\" übertragen\n",
    "# und die Ausprägungen in die Spalte \"wert\"; Ergebnis in Dataframe df_auswertung_long ablegen\n",
    "df_auswertung_long = df_auswertung.reset_index() \\\n",
    "  .melt(id_vars=[\"standort_name\", \"einrichtung_name\"], var_name=\"kennzahl\", value_name=\"wert\")\n",
    "df_auswertung_long"
   ]
  },
  {
   "cell_type": "markdown",
   "metadata": {
    "id": "N9Xah6ZG99NK"
   },
   "source": [
    "### Auswertung vom \"long\" wieder ins \"wide\"-Format umklappen"
   ]
  },
  {
   "cell_type": "code",
   "execution_count": null,
   "metadata": {
    "id": "7RXJVu7z99Xo"
   },
   "outputs": [],
   "source": [
    "# Spalten standort_name & einrichtung_name als Index übernehmen,\n",
    "# Bezeichner aus Spalte \"kennzahl\" und Werte aus Spalte \"wert\" übernehmen\n",
    "df_auswertung_long.pivot(index=[\"standort_name\", \"einrichtung_name\"], columns=\"kennzahl\", values=\"wert\")"
   ]
  }
 ],
 "metadata": {
  "colab": {
   "authorship_tag": "ABX9TyMy1FuTQiFYVGJ/AWQb1iFz",
   "provenance": [
    {
     "file_id": "1L0Ek49ac5U9ruRRaUMprMmCoDp3v0HOt",
     "timestamp": 1716030265325
    },
    {
     "file_id": "1BKCcgS8zssyHgOmY-p6uD5JtTzI63Jlb",
     "timestamp": 1715515667455
    },
    {
     "file_id": "https://github.com/fau-lmi/lct-ehealth-datawarehouse/blob/main/01-01-Extraktion-Demo.ipynb",
     "timestamp": 1714911186628
    },
    {
     "file_id": "1BL6fz2-jOCEmlbHL_LUVxhtHzK709prp",
     "timestamp": 1714904625208
    }
   ],
   "toc_visible": true
  },
  "kernelspec": {
   "display_name": "Python (venv)",
   "language": "python",
   "name": "venv"
  },
  "language_info": {
   "codemirror_mode": {
    "name": "ipython",
    "version": 3
   },
   "file_extension": ".py",
   "mimetype": "text/x-python",
   "name": "python",
   "nbconvert_exporter": "python",
   "pygments_lexer": "ipython3",
   "version": "3.13.2"
  }
 },
 "nbformat": 4,
 "nbformat_minor": 4
}
