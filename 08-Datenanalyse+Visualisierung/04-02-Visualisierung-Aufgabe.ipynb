{
 "cells": [
  {
   "cell_type": "markdown",
   "metadata": {
    "id": "SvxhKbdnO7j3"
   },
   "source": [
    "# 04-02 Visualisierung-Aufgabe\n",
    "\n",
    "## Hinweise zur Übung\n",
    "\n",
    "In dieser Übung wenden Sie die Vorgehensweisen aus der Visualisierungs-Demo in eigenen Abfragen auf die Daten des Kurs-DWH an."
   ]
  },
  {
   "cell_type": "markdown",
   "metadata": {
    "id": "bbsb3U9UkAl1"
   },
   "source": [
    "## Konfiguration des Notebooks"
   ]
  },
  {
   "cell_type": "code",
   "execution_count": null,
   "metadata": {
    "id": "1D0zfQ-IzSGk"
   },
   "outputs": [],
   "source": [
    "# Ggf. fehlende Pakete installieren\n",
    "!pip install --quiet ipython-sql pandas altair folium"
   ]
  },
  {
   "cell_type": "code",
   "execution_count": null,
   "metadata": {
    "id": "44KM1u1Zzn3-"
   },
   "outputs": [],
   "source": [
    "import os\n",
    "import sys\n",
    "import urllib.request\n",
    "import gzip\n",
    "import shutil\n",
    "import pandas as pd\n",
    "import altair as alt\n",
    "import folium\n",
    "%load_ext sql\n",
    "%config SqlMagic.style = '_DEPRECATED_DEFAULT'"
   ]
  },
  {
   "cell_type": "code",
   "execution_count": null,
   "metadata": {
    "id": "MP1zDb_s0-rq"
   },
   "outputs": [],
   "source": [
    "# Konfiguration\n",
    "base_url_quellen   = \"https://raw.githubusercontent.com/fau-lmi/lct-ehealth/main/08-Datenanalyse+Visualisierung/data\"\n",
    "base_url_reporting = \"./\""
   ]
  },
  {
   "cell_type": "code",
   "execution_count": null,
   "metadata": {
    "id": "4IYsvJsGthEU"
   },
   "outputs": [],
   "source": [
    "# SQlite-Datenbanken aus Github auf den Jupyter-Server herunterladen\n",
    "urllib.request.urlretrieve(base_url_quellen + \"/dwh/reporting.sqlite.gz\", base_url_reporting + \"reporting.sqlite.gz\")\n",
    "\n",
    "# Die Sqlite-Datenbank ist aufgrund ihrer Größe gezipped und muss vor der Nutzung noch entpackt werden\n",
    "with gzip.open(base_url_reporting + \"reporting.sqlite.gz\", \"rb\") as f_in:\n",
    "    with open(base_url_reporting + \"reporting.sqlite\", \"wb\") as f_out:\n",
    "        shutil.copyfileobj(f_in, f_out)"
   ]
  },
  {
   "cell_type": "code",
   "execution_count": null,
   "metadata": {
    "id": "p_O_S1FO6crA"
   },
   "outputs": [],
   "source": [
    "# Datenbankverbindung als Pfad (für das ETL) & iPython SQL (für die Abfragen) herstellen\n",
    "db_path_reporting      = base_url_reporting + \"reporting.sqlite\"\n",
    "\n",
    "db_url_reporting      = \"sqlite:///\" + db_path_reporting\n",
    "\n",
    "%sql $db_url_reporting"
   ]
  },
  {
   "cell_type": "markdown",
   "metadata": {
    "id": "2hk6avHq7J62"
   },
   "source": [
    "## Einfache Diagramme mit Altair\n"
   ]
  },
  {
   "cell_type": "markdown",
   "metadata": {
    "id": "41kI92f8bEVm"
   },
   "source": [
    "### Aufgabe: Stellen Sie die Fallzahlen je Einrichtung für Bielefeld und Mannheim als Balkendiagramm dar\n",
    "\n",
    "**Erster Schritt:** Erstellen Sie eine SQL-Abfrage aus dem Kurs-DWH, das den Namen des Standorts, den Namen der Einrichtung und die Anzahl der Fälle enthält. Speichern Sie das Ergebnis in einem Dataframe."
   ]
  },
  {
   "cell_type": "code",
   "execution_count": null,
   "metadata": {
    "id": "KyuexSOSQMmE"
   },
   "outputs": [],
   "source": []
  },
  {
   "cell_type": "markdown",
   "metadata": {
    "id": "L43-zqXEqfhY"
   },
   "source": [
    "**Zweiter Schritt:** Stellen Sie nur die Fallzahlen des Standorts Bielefeld in einem Balkendiagramm dar.\n",
    "\n",
    "Hinweise:\n",
    "* filtern Sie den Dataframe auf den Standort Bielefeld\n",
    "* vergessen Sie nicht, passende Datentyp-Suffixe (z.B. \":Q\" im `encoding` anzugeben\n",
    "* geben Sie passende Titel & Achsenbeschriften an\n",
    "* Bonusaufgabe: finden Sie heraus, wie Sie die Standorte absteigend nach Fallzahl sortieren können\n"
   ]
  },
  {
   "cell_type": "code",
   "execution_count": null,
   "metadata": {
    "id": "iBp8z298iw-v"
   },
   "outputs": [],
   "source": []
  },
  {
   "cell_type": "markdown",
   "metadata": {
    "id": "n7Os5k4asKKv"
   },
   "source": [
    "**Dritter Schritt:** Übernehmen Sie den Code des vorherigen Diagramms und passen ihn so an, dass beide Standorte als Facetten untereinander ausgegeben werden.\n",
    "\n",
    "Hinweise:\n",
    "* Altair nutzt defaultmäßig übergreifende Achsen für alle Teilgrafiken eines facettierten Diagramms. Dies führt hier dazu, dass auch beide Teildiagramme alle Einrichtungen beider Standorte ausweisen, obwohl Fallzahlen jeweils nur für den eigentlichen Standort vorliegen. Sie können das abstellen, indem Sie hinter `encode()` die Methode `resolve_scale(y=\"independent\")' aufrufen. Die X-Achse sollte weiterhin einheitlich sein, da die Balken beider Standorte sonst nicht mehr vergleichbar sind."
   ]
  },
  {
   "cell_type": "code",
   "execution_count": null,
   "metadata": {
    "id": "ekv7IjI1keF1"
   },
   "outputs": [],
   "source": []
  },
  {
   "cell_type": "markdown",
   "metadata": {
    "id": "pIjw_TZFJ0ko"
   },
   "source": [
    "### Aufgabe: Stellen Sie die Geschlechtsverteilung der ICD10-Diagnosekapitel dar\n",
    "\n",
    "Diagnosen haben teilweise geschlechtsspezifische Verteilungen (z.B. bei Schwangerschaft/Geburt). In dieser Aufgabe stellen Sie die Geschlechtsverteilungen in Bezug auf die verschiedenen Kapitel des ICD10-Katalogs dar.\n",
    "\n",
    "**Erster Schritt:** Erstellen Sie eine Abfrage, die für jedes Kapitel der ICD10-Hauptdiagnosen und das Geschlecht die Fallzahl ausweist. Es sollen nur die Hauptdiagnosen der Behandlungsfälle einbezogen werden.\n",
    "\n",
    "Hinweise:\n",
    "* Synthea hat zwar den Anspruch, medizinische plausible Datensätze zu generieren, dennoch werden nicht alle Verteilungen tatsächlich realistisch sein.\n"
   ]
  },
  {
   "cell_type": "code",
   "execution_count": null,
   "metadata": {
    "id": "79lZhhwsJ0rj"
   },
   "outputs": [],
   "source": []
  },
  {
   "cell_type": "markdown",
   "metadata": {
    "id": "L5LjiS3fo3Et"
   },
   "source": [
    "**Zweiter Schritt:** Erstellen Sie ein facettiertes Kuchendiagramm:\n",
    "\n",
    "* Kennzahl für die Kreisabschnitte ist die Fallzahl\n",
    "* Farbe entsprechend des Geschlechts\n",
    "* Facettierung über die Kapitelnamen des ICD10-Katalogs"
   ]
  },
  {
   "cell_type": "code",
   "execution_count": null,
   "metadata": {
    "id": "tEOy7P6Bu0i0"
   },
   "outputs": [],
   "source": []
  },
  {
   "cell_type": "markdown",
   "metadata": {
    "id": "vz1MZmbO8HFT"
   },
   "source": [
    "### Aufgabe: Stellen Sie die Fallzahl pro Einrichtung und Fallart als gestapeltes Balkendiagramm und Scatterplot dar\n",
    "\n",
    "In dieser Aufgabe wollen wir die Fallzahlen der verschiedenen Versorgungseinrichtungen in Bezug auf die jeweiligen Fallarten unterscheiden, um beispielsweise zu erkennen, ob einzelne Fallarten nur von bestimmten Typen von Versorgern (z.B. Krankenhäusern) angeboten werden.\n",
    "\n",
    "**Erster Schritt:** Fragen Sie im Kursdatensatz die Anzahl der Fälle pro Standort, Einrichtung und Fallart ab und speichern das Ergebnis in einem Dataframe `df_fallarten`.\n"
   ]
  },
  {
   "cell_type": "code",
   "execution_count": null,
   "metadata": {
    "id": "_v2sjbdo8Tri"
   },
   "outputs": [],
   "source": []
  },
  {
   "cell_type": "markdown",
   "metadata": {
    "id": "LzmU24DVACG5"
   },
   "source": [
    "**Zweiter Schritt**: Visualisieren Sie die Fallzahlen in einem gestapelten Balkendiagramm (horizontale Darstellung):\n",
    "* Setzen Sie die Fallzahl auf die X-Achse\n",
    "* Setzen Sie den Einrichtungsnamen auf die Y-Achse\n",
    "* Setzen Sie die Fallart als Farbe ein\n",
    "* Facettieren Sie das Diagramm nach Standortnamen"
   ]
  },
  {
   "cell_type": "code",
   "execution_count": null,
   "metadata": {
    "id": "miGeAwv_-ut7"
   },
   "outputs": [],
   "source": []
  },
  {
   "cell_type": "markdown",
   "metadata": {
    "id": "Yoojq5icAV_J"
   },
   "source": [
    "**Dritter Schritt**: Visualisieren Sie die Fallzahlen in einem Scatterplot:\n",
    "* Setzen Sie die Fallart auf die X-Achse\n",
    "* Setzen Sie den Einrichtungsnamen auf die Y-Achse\n",
    "* Setzen Sie die Fallzahl als Größe der Punkte ein\n",
    "* Facettieren Sie das Diagramm nach Standortnamen"
   ]
  },
  {
   "cell_type": "code",
   "execution_count": null,
   "metadata": {
    "id": "NQ_lwdoq8lYi"
   },
   "outputs": [],
   "source": []
  },
  {
   "cell_type": "markdown",
   "metadata": {
    "id": "kXFWyEvcnXbj"
   },
   "source": [
    "## Geovisualisierung mit Folium\n",
    "\n"
   ]
  },
  {
   "cell_type": "markdown",
   "metadata": {
    "id": "F3rlOqzxp3jV"
   },
   "source": [
    "### Aufgabe: Stellen Sie die Gesamterlöse der Versorgungseinrichtungen als Geovisualisierung dar\n",
    "\n",
    "In dieser Aufgabe wollen wir die Erlöse über alle behandelten Fälle summieren und in einer Geovisualisierung als Kreise um die Koordinaten der Versorgungseinrichtungen darstellen.\n",
    "\n",
    "**Erster Schritt:** Fragen Sie die summierten Erlöse pro Fall in Bezug auf den Namen und die Geokoordinaten der Versorgungseinrichtungen ab und speichern Sie das Ergebnis im Dataframe `df_einrichtungen`."
   ]
  },
  {
   "cell_type": "code",
   "execution_count": null,
   "metadata": {
    "id": "nWUW7iJ5p_Pj"
   },
   "outputs": [],
   "source": []
  },
  {
   "cell_type": "markdown",
   "metadata": {
    "id": "JKcLXP8QDXgH"
   },
   "source": [
    "**Zweiter Schritt**: Visualisieren Sie die Erlöse pro Versorgungseinrichtung auf einer Folium-Karte:\n",
    "* legen Sie zunächst eine Basiskarte an, die das gesamte Bundesgebiet zeigt\n",
    "* Platzieren sie pro Einrichtung einen Kreis auf der Karte\n",
    "* Legen Sie die Größe des Kreises anhand des Erlöses fest (ggf. skalieren, damit die Einrichtungen sich nicht zu stark überlappen)\n",
    "* stellen Sie die Kreise halbtransparent dar, damit auch überlappende Einrichtungen erkennbar sind\n",
    "* ergänzen Sie einen Tooltip mit dem Namen der Einrichtung und dem Erlös"
   ]
  },
  {
   "cell_type": "code",
   "execution_count": null,
   "metadata": {
    "id": "nynVNRPR3LtX"
   },
   "outputs": [],
   "source": []
  }
 ],
 "metadata": {
  "colab": {
   "authorship_tag": "ABX9TyOQkFtoGlJUjZZhnV+izDdK",
   "provenance": [
    {
     "file_id": "1zRdSJqPWaUEp_WkUssdvG_3cgpMmZM14",
     "timestamp": 1716394240224
    },
    {
     "file_id": "1BKCcgS8zssyHgOmY-p6uD5JtTzI63Jlb",
     "timestamp": 1715515667455
    },
    {
     "file_id": "https://github.com/fau-lmi/lct-ehealth-datawarehouse/blob/main/01-01-Extraktion-Demo.ipynb",
     "timestamp": 1714911186628
    },
    {
     "file_id": "1BL6fz2-jOCEmlbHL_LUVxhtHzK709prp",
     "timestamp": 1714904625208
    }
   ],
   "toc_visible": true
  },
  "kernelspec": {
   "display_name": "Python 3 (ipykernel)",
   "language": "python",
   "name": "python3"
  },
  "language_info": {
   "codemirror_mode": {
    "name": "ipython",
    "version": 3
   },
   "file_extension": ".py",
   "mimetype": "text/x-python",
   "name": "python",
   "nbconvert_exporter": "python",
   "pygments_lexer": "ipython3",
   "version": "3.13.2"
  }
 },
 "nbformat": 4,
 "nbformat_minor": 4
}
