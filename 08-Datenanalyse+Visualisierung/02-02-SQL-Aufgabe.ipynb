{
 "cells": [
  {
   "cell_type": "markdown",
   "metadata": {
    "id": "SvxhKbdnO7j3"
   },
   "source": [
    "# 02-02 SQL-Aufgabe\n",
    "\n",
    "## Hinweise zur Übung\n",
    "\n",
    "Ziel dieser Aufgabe ist, konkrete Abfragen gegen das Kurs-DWH zu stellen und dabei schrittweise von einfachen zu komplexeren Abfragen Erfahrung zu sammeln."
   ]
  },
  {
   "cell_type": "markdown",
   "metadata": {
    "id": "bbsb3U9UkAl1"
   },
   "source": [
    "## Konfiguration des Notebooks"
   ]
  },
  {
   "cell_type": "code",
   "execution_count": null,
   "metadata": {
    "id": "1D0zfQ-IzSGk"
   },
   "outputs": [],
   "source": [
    "# Ggf. fehlende Pakete installieren\n",
    "!pip install --quiet ipython-sql"
   ]
  },
  {
   "cell_type": "code",
   "execution_count": null,
   "metadata": {
    "id": "44KM1u1Zzn3-"
   },
   "outputs": [],
   "source": [
    "import os\n",
    "import sys\n",
    "import urllib.request\n",
    "import gzip\n",
    "import shutil\n",
    "%load_ext sql\n",
    "%config SqlMagic.style = '_DEPRECATED_DEFAULT'"
   ]
  },
  {
   "cell_type": "code",
   "execution_count": null,
   "metadata": {
    "id": "MP1zDb_s0-rq"
   },
   "outputs": [],
   "source": [
    "# Konfiguration\n",
    "base_url_quellen   = \"https://raw.githubusercontent.com/fau-lmi/lct-ehealth/main/08-Datenanalyse+Visualisierung/data\"\n",
    "base_url_reporting = \"./\""
   ]
  },
  {
   "cell_type": "code",
   "execution_count": null,
   "metadata": {
    "id": "4IYsvJsGthEU"
   },
   "outputs": [],
   "source": [
    "# SQlite-Datenbanken aus Github auf den Jupyter-Server herunterladen\n",
    "urllib.request.urlretrieve(base_url_quellen + \"/dwh/reporting.sqlite.gz\", base_url_reporting + \"reporting.sqlite.gz\")\n",
    "\n",
    "# Die Sqlite-Datenbank ist aufgrund ihrer Größe gezipped und muss vor der Nutzung noch entpackt werden\n",
    "with gzip.open(base_url_reporting + \"reporting.sqlite.gz\", \"rb\") as f_in:\n",
    "    with open(base_url_reporting + \"reporting.sqlite\", \"wb\") as f_out:\n",
    "        shutil.copyfileobj(f_in, f_out)"
   ]
  },
  {
   "cell_type": "code",
   "execution_count": null,
   "metadata": {
    "id": "p_O_S1FO6crA"
   },
   "outputs": [],
   "source": [
    "# Datenbankverbindung als Pfad (für das ETL) & iPython SQL (für die Abfragen) herstellen\n",
    "db_path_reporting      = base_url_reporting + \"reporting.sqlite\"\n",
    "\n",
    "db_url_reporting      = \"sqlite:///\" + db_path_reporting\n",
    "\n",
    "%sql $db_url_reporting"
   ]
  },
  {
   "cell_type": "markdown",
   "metadata": {
    "id": "2hk6avHq7J62"
   },
   "source": [
    "## Einfache Abfragen über einzelne Tabellen"
   ]
  },
  {
   "cell_type": "markdown",
   "metadata": {
    "id": "jba6B16wr-EO"
   },
   "source": [
    "### Aufgabe: Fragen Sie alle Spalten der Tabelle `F_FAELLE` ab\n",
    "\n",
    "🛑 Denken Sie daran, die Abfrage mit einer `LIMIT`-Klausel auf wenige Zeilen zu beschränken, da sonst alle Datensätze geladen würden (lange Laufzeit, ggf. Absturz des Notebooks). :"
   ]
  },
  {
   "cell_type": "code",
   "execution_count": null,
   "metadata": {
    "id": "R7Gb75Sb6smZ"
   },
   "outputs": [],
   "source": []
  },
  {
   "cell_type": "markdown",
   "metadata": {
    "id": "58373X2sslgH"
   },
   "source": [
    "### Aufgabe: Fragen Sie nur die Spalten `fall_id`, `aufnahme_datum` und `entlass_datum` der Tabelle `F_FAELLE` ab"
   ]
  },
  {
   "cell_type": "code",
   "execution_count": null,
   "metadata": {
    "id": "ZAHyya_7slo8"
   },
   "outputs": [],
   "source": []
  },
  {
   "cell_type": "markdown",
   "metadata": {
    "id": "5gLcbSU-tSaa"
   },
   "source": [
    "### Aufgabe: Fragen Sie männliche Patienten aus der Tabelle `D_PATIENT` ab (alle Spalten)"
   ]
  },
  {
   "cell_type": "code",
   "execution_count": null,
   "metadata": {
    "id": "BBReIOfBtSkN"
   },
   "outputs": [],
   "source": []
  },
  {
   "cell_type": "markdown",
   "metadata": {
    "id": "E3P9RzcUuLnB"
   },
   "source": [
    "## Abfragen über mehrere verbundene Tabellen"
   ]
  },
  {
   "cell_type": "markdown",
   "metadata": {
    "id": "1Hd0y_yhuQFl"
   },
   "source": [
    "### Aufgabe: Joinen Sie die Tabellen D_PATIENT und F_FAELLE (INNER JOIN) und fragen alle Spalten ab\n",
    "\n",
    "💡 Denken Sie daran, für beide Tabellen jeweils ein kurzes Alias zu definieren und das Alias zur Qualifizierung der Spalten beider Tabellen zu nutzen."
   ]
  },
  {
   "cell_type": "code",
   "execution_count": null,
   "metadata": {
    "id": "s4oFJTcbuXsd"
   },
   "outputs": [],
   "source": []
  },
  {
   "cell_type": "markdown",
   "metadata": {
    "id": "h4B_eWZRvAyP"
   },
   "source": [
    "### Aufgabe: Ergänzen Sie die Abfrage um einen INNER JOIN mit der Tabelle D_FALLART\n",
    "\n",
    "Geben Sie nur die folgenden Spalten aus:\n",
    "* D_PATIENT: patient_id, patient_nachname\n",
    "* F_FAELLE: aufnahme_datum, entlass_datum\n",
    "* D_FALLART: fallart_name"
   ]
  },
  {
   "cell_type": "code",
   "execution_count": null,
   "metadata": {
    "id": "7Qt8NfKSvA6r"
   },
   "outputs": [],
   "source": []
  },
  {
   "cell_type": "markdown",
   "metadata": {
    "id": "_xsOxTpVykjg"
   },
   "source": [
    "### Aufgabe: Ergänzen Sie die vorherige Abfrage um einen LEFT OUTER JOIN, um den Bezeichner der Hauptdiagnose anzuzeigen\n",
    "\n",
    "Achten Sie darauf, dass Fälle mit fehlender Hauptdiagnose weiterhin sichtbar bleiben."
   ]
  },
  {
   "cell_type": "code",
   "execution_count": null,
   "metadata": {
    "id": "skdICepvyktn"
   },
   "outputs": [],
   "source": []
  },
  {
   "cell_type": "markdown",
   "metadata": {
    "id": "B5D9GF06wO-V"
   },
   "source": [
    "### Aufgabe: Geben Sie Einrichtungen aus, die keine Behandlungsfälle hatten"
   ]
  },
  {
   "cell_type": "code",
   "execution_count": null,
   "metadata": {
    "id": "UE_b2HxBwPIN"
   },
   "outputs": [],
   "source": []
  },
  {
   "cell_type": "markdown",
   "metadata": {
    "id": "7QdTvTmwA_ZX"
   },
   "source": [
    "## Aggregation von Daten\n",
    "\n",
    "In den folgenden Abfragen benötigen Sie Gruppierungsmerkmale und Aggregatfunktionen, um Daten über mehrere Tabellenzeilen hinweg zusammengefasst auszuwerten."
   ]
  },
  {
   "cell_type": "markdown",
   "metadata": {
    "id": "y6q9bfVXBkSD"
   },
   "source": [
    "### Aufgabe: Berechnen Sie den aufsummierten Gesamterlös pro Einrichtung\n",
    "\n",
    "Geben Sie dazu die die folgenden Spalten aus:\n",
    "* D_ORGA: `standort_name`,  `einrichtung_name`\n",
    "* F_FAELLE: Summe von `erloes_fallpauschale`"
   ]
  },
  {
   "cell_type": "code",
   "execution_count": null,
   "metadata": {
    "id": "O-RyGeFfA_qD"
   },
   "outputs": [],
   "source": []
  },
  {
   "cell_type": "markdown",
   "metadata": {
    "id": "-FpU-MB8DHxk"
   },
   "source": [
    "### Aufgabe: Ergänzen Sie die Abfrage um die Fallzahl und den mittleren Erlös und filtern auf stationäre Fälle\n",
    "\n",
    "Stationäre Fälle haben die Fallart \"inpatient\""
   ]
  },
  {
   "cell_type": "code",
   "execution_count": null,
   "metadata": {
    "id": "KYZN13u3DH8j"
   },
   "outputs": [],
   "source": []
  },
  {
   "cell_type": "markdown",
   "metadata": {
    "id": "lNuvtyE9FCr7"
   },
   "source": [
    "### Aufgabe: Ergänzen Sie die vorherige Abfrage um einen Filter auf Einrichtungen mit mehr als 50 Fällen und sortieren das Ergebnis absteigend nach Gesamterlös"
   ]
  },
  {
   "cell_type": "code",
   "execution_count": null,
   "metadata": {
    "id": "zWB0ZR5iEkXx"
   },
   "outputs": [],
   "source": []
  }
 ],
 "metadata": {
  "colab": {
   "authorship_tag": "ABX9TyPZRcXd46i53f8fRtDcsDs0",
   "provenance": [
    {
     "file_id": "1xFMycwmi7y6kgVqcUA3Y2wVPeV5v1Tmy",
     "timestamp": 1715792113384
    },
    {
     "file_id": "1EkD5d_3MFlIVVux0LoCiZ8yn972v7Rjf",
     "timestamp": 1715610190152
    },
    {
     "file_id": "1BKCcgS8zssyHgOmY-p6uD5JtTzI63Jlb",
     "timestamp": 1715515667455
    },
    {
     "file_id": "https://github.com/fau-lmi/lct-ehealth-datawarehouse/blob/main/01-01-Extraktion-Demo.ipynb",
     "timestamp": 1714911186628
    },
    {
     "file_id": "1BL6fz2-jOCEmlbHL_LUVxhtHzK709prp",
     "timestamp": 1714904625208
    }
   ],
   "toc_visible": true
  },
  "kernelspec": {
   "display_name": "Python 3 (ipykernel)",
   "language": "python",
   "name": "python3"
  },
  "language_info": {
   "codemirror_mode": {
    "name": "ipython",
    "version": 3
   },
   "file_extension": ".py",
   "mimetype": "text/x-python",
   "name": "python",
   "nbconvert_exporter": "python",
   "pygments_lexer": "ipython3",
   "version": "3.13.2"
  }
 },
 "nbformat": 4,
 "nbformat_minor": 4
}
