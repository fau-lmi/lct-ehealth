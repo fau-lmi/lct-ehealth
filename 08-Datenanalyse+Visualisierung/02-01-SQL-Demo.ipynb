{
 "cells": [
  {
   "cell_type": "markdown",
   "metadata": {
    "id": "SvxhKbdnO7j3"
   },
   "source": [
    "# 02-01 SQL-Demo\n",
    "\n",
    "## Hinweise zur Übung\n",
    "\n",
    "Ziel dieser Demo ist eine Übersicht der wesentlichen SQL-Statements & -Vorgehensweisen, um Abfragen auf den Daten unseres Beispiel-DWH erstellen zu können."
   ]
  },
  {
   "cell_type": "markdown",
   "metadata": {
    "id": "bbsb3U9UkAl1"
   },
   "source": [
    "## Konfiguration des Notebooks"
   ]
  },
  {
   "cell_type": "code",
   "execution_count": null,
   "metadata": {
    "id": "1D0zfQ-IzSGk"
   },
   "outputs": [],
   "source": [
    "# Ggf. fehlende Pakete installieren\n",
    "!pip install --quiet ipython-sql"
   ]
  },
  {
   "cell_type": "code",
   "execution_count": null,
   "metadata": {
    "id": "44KM1u1Zzn3-"
   },
   "outputs": [],
   "source": [
    "import os\n",
    "import sys\n",
    "import urllib.request\n",
    "import gzip\n",
    "import shutil\n",
    "%load_ext sql\n",
    "%config SqlMagic.style = '_DEPRECATED_DEFAULT'"
   ]
  },
  {
   "cell_type": "code",
   "execution_count": null,
   "metadata": {
    "id": "MP1zDb_s0-rq"
   },
   "outputs": [],
   "source": [
    "# Konfiguration\n",
    "base_url_quellen   = \"https://raw.githubusercontent.com/fau-lmi/lct-ehealth/main/08-Datenanalyse+Visualisierung/data\"\n",
    "base_url_reporting = \"./\""
   ]
  },
  {
   "cell_type": "code",
   "execution_count": null,
   "metadata": {
    "id": "4IYsvJsGthEU"
   },
   "outputs": [],
   "source": [
    "# SQlite-Datenbanken aus Github auf den Jupyter-Server herunterladen\n",
    "urllib.request.urlretrieve(base_url_quellen + \"/dwh/reporting.sqlite.gz\", base_url_reporting + \"reporting.sqlite.gz\")\n",
    "\n",
    "# Die Sqlite-Datenbank ist aufgrund ihrer Größe gezipped und muss vor der Nutzung noch entpackt werden\n",
    "with gzip.open(base_url_reporting + \"reporting.sqlite.gz\", \"rb\") as f_in:\n",
    "    with open(base_url_reporting + \"reporting.sqlite\", \"wb\") as f_out:\n",
    "        shutil.copyfileobj(f_in, f_out)"
   ]
  },
  {
   "cell_type": "code",
   "execution_count": null,
   "metadata": {
    "id": "p_O_S1FO6crA"
   },
   "outputs": [],
   "source": [
    "# Datenbankverbindung als Pfad (für das ETL) & iPython SQL (für die Abfragen) herstellen\n",
    "db_path_reporting      = base_url_reporting + \"reporting.sqlite\"\n",
    "\n",
    "db_url_reporting      = \"sqlite:///\" + db_path_reporting\n",
    "\n",
    "%sql $db_url_reporting"
   ]
  },
  {
   "cell_type": "markdown",
   "metadata": {
    "id": "2hk6avHq7J62"
   },
   "source": [
    "## Orientierung in der Datenbank\n",
    "\n",
    "Im Kurs nutzen wir die Datenbank *SQLite*, die dateibasiert arbeitet. Sie erfordert keinen dedizierten Server, wie andere Datenbanken (z.B. MySQL, Oracle) und ist daher \"klein\" genug, um auf embedded devices (z.B. Handies, Wearables) oder innerhalb eines Jupyter Notebook zu laufen. Im Gegenzug ist der Funktionsumfang teilweise gegenüber dem SQL-Standard bzw. Features größerer Datenbanken reduziert.\n",
    "\n",
    "Mit den folgenden Kommandos können Sie sich einen Überblick über die Struktur der Datenbank und ihrer Tabellen machen. In SQLite wird hierzu das `PRAGMA`-Statement verwendet:\n",
    "\n",
    "Mit `PRAGMA table_list` können Sie eine Liste der in der Datenbank enthaltenen Tabellen und der Anzahl ihrer Spalten bekommen:"
   ]
  },
  {
   "cell_type": "code",
   "execution_count": null,
   "metadata": {
    "id": "R7Gb75Sb6smZ"
   },
   "outputs": [],
   "source": [
    "%%sql $db_url_reporting\n",
    "PRAGMA table_list"
   ]
  },
  {
   "cell_type": "markdown",
   "metadata": {
    "id": "9_eFeeH87_zH"
   },
   "source": [
    "Mit `PRAGMA TABLE_INFO(<Tabellenname>)` können Sie die Definition einer Tabelle mit ihren Spaltennamen & Datentypen sehen."
   ]
  },
  {
   "cell_type": "code",
   "execution_count": null,
   "metadata": {
    "id": "xTLJBwG-7_7B"
   },
   "outputs": [],
   "source": [
    "%%sql $db_url_reporting\n",
    "PRAGMA TABLE_INFO(f_faelle)"
   ]
  },
  {
   "cell_type": "markdown",
   "metadata": {
    "id": "l7FU7pqDSuPO"
   },
   "source": [
    "## Einfache SQL-Abfragen auf einer Tabelle\n",
    "\n",
    "In den folgenden Codeblöcken werden einfache SQL-Abfragen auf einer einzelnen Tabelle (ohne Joins) gezeigt"
   ]
  },
  {
   "cell_type": "markdown",
   "metadata": {
    "id": "LKu--x0nTLH0"
   },
   "source": [
    "### Abfrage aller Spalten einer Tabelle\n",
    "\n",
    "Mit `SELECT * FROM <Tabtelle>` werden alle Spalten und Zeilen einer Tabelle ausgelesen. Um zu vermeiden, dass bei großen Tabellen der gesamte Inhalt ausgelesen und ggf. die Kapazität des Notebooks gesprengt wird, kann man mit der Klausel `LIMIT <Anzahl Datensätze>` die Zahl der zurückgelieferten Tabellenzeilen angeben.\n",
    "\n",
    "*Das folgende Statement liest 10 Datensätze (alle Spalten) aus der Tabelle `D_PATIENT` aus:*"
   ]
  },
  {
   "cell_type": "code",
   "execution_count": null,
   "metadata": {
    "id": "nEFhk8ufSubk"
   },
   "outputs": [],
   "source": [
    "%%sql $db_url_reporting\n",
    "SELECT *\n",
    "  FROM d_patient\n",
    " LIMIT 10"
   ]
  },
  {
   "cell_type": "markdown",
   "metadata": {
    "id": "l4mCqWSSTln1"
   },
   "source": [
    "### Nur ausgewählte Spalten auslesen\n",
    "\n",
    "Statt dem `*` können auch ausgewählte Spalten angegeben werden, die ausgelesen werden sollen (um nur tatsächlich benötigte Spalten zu bekommen oder z.B. die Reihenfolge der auszugebenden Spalten explizit vorzugeben).\n",
    "\n",
    "*Das folgende Statement liest nur Nachname, Geburtsdatum und Geschlecht aus (auf 10 Datensätze begrenzt):*"
   ]
  },
  {
   "cell_type": "code",
   "execution_count": null,
   "metadata": {
    "id": "vqSP-kEdTl0G"
   },
   "outputs": [],
   "source": [
    "%%sql $db_url_reporting\n",
    "SELECT patient_nachname, patient_gebdat, patient_geschlecht\n",
    "  FROM d_patient\n",
    " LIMIT 10"
   ]
  },
  {
   "cell_type": "markdown",
   "metadata": {
    "id": "097WP1KOUSQ3"
   },
   "source": [
    "### Nur ausgewählte Zeilen einer Tabelle auslesen\n",
    "\n",
    "Mit einer `WHERE`-Klausel kann die Ausgabe auf Datensätze beschränkt werden, die eine oder mehrere Bedingungen erfüllen.\n",
    "\n",
    "*Das folgende Statement liest nur Patienten mit weiblichem Geschlecht aus (begrenzt auf 10 Zeilen):*"
   ]
  },
  {
   "cell_type": "code",
   "execution_count": null,
   "metadata": {
    "id": "fm9pK_P9USXs"
   },
   "outputs": [],
   "source": [
    "%%sql $db_url_reporting\n",
    "SELECT patient_nachname, patient_gebdat, patient_geschlecht\n",
    "  FROM d_patient\n",
    " WHERE patient_geschlecht = 'F'\n",
    " LIMIT 10"
   ]
  },
  {
   "cell_type": "markdown",
   "metadata": {
    "id": "-c9g3-GXU3uT"
   },
   "source": [
    "### Bedingungen mit Wildcards und Teilstrings formulieren\n",
    "\n",
    "In der `WHERE`-Klausel kann statt mit dem Gleichheitsoperator `=` auch der `LIKE`-Operator verwendet werden, der \"unscharfe\" Suchen nach Teilstrings ermöglicht. Die zu verwendenden Wildcards können sich je nach Datenbank unterscheiden, sind aber häufig `_` für ein einzelnes Zeichen und `%` für eine beliebige Anzahl von Zeichen, die außerhalb des gesuchten Textes stehen können. Strings werden in SQL-Abfragen immer in einfache Anführungsstriche `'`gesetzt.\n",
    "\n",
    "* `... WHERE patient_ort LIKE 'Bielefeld%'`: findet alle Texte, die mit \"Bielefeld\" beginnen, also z.B. \"Bielefeld-Sennestadt\", nicht jedoch \"West-Bielefeld\"\n",
    "* `... WHERE patient_ort LIKE '%Bielefeld'`: findet alle Texte, die mit Bielefeld enden, also z.B. \"West-Bielefeld\", aber nicht \"Bielefeld-Sennestadt\"\n",
    "* `... WHERE patient_ort LIKE '%Bielefeld%'`: findet alle Texte, die das Wort \"Bielefeld\" enthalten, also beide der in den vorherigen Zeilen beschriebenen Fälle\n",
    "* `... WHERE patient_ort LIKE 'Bielefel_'`: findet alle Texte, die mit \"Bielefel\" beginnen und danach ein einzelnes beliebiges Zeichen haben (also z.B. \"Bielefel**d**\" und \"Bielefel**t**\", nicht jedoch Bielefel\"**dt**\")\n",
    "\n",
    "Datenbanken können je nach Konfiguration case-sensitive oder case-insensitive sein, also Groß-Kleinschreibung bei der Suche anwenden, oder nicht. Um Groß-Kleinschreibung als Störfaktor auszuschließen, können Texte mit den `LOWER()`- bzw. `UPPER()`-Funktionen in Klein- bzw. Großbuchstaben konvertiert werden.\n",
    "\n",
    "* `... WHERE LOWER(patient_ort) = 'bielefeld'`: findet sowohl \"Bielefeld\" als auch \"bielefeld\" oder alle anderen möglichen Groß-Kleinschreibungen dieses Worts\n",
    "\n",
    "Mit der `SUBSTR(<Spalte>, <erstes Zeichen>, <Länge>)`-Funktion können Teile eines Strings herausgeschnitten werden. Das erste Zeichen steht auf Position 1 (nicht 0).\n",
    "\n",
    "* `SUBSTR(patient_gebdat, 1, 4)`: schneidet die ersten vier Zeichen des Geburtsdatums (hier: das Jahr) heraus\n",
    "\n"
   ]
  },
  {
   "cell_type": "markdown",
   "metadata": {},
   "source": [
    "*Nur Patienten auslesen, deren Vorname mit 'Jon' beginnt:*"
   ]
  },
  {
   "cell_type": "code",
   "execution_count": null,
   "metadata": {
    "id": "_vOATqGTU33e"
   },
   "outputs": [],
   "source": [
    "%%sql $db_url_reporting\n",
    "SELECT patient_nachname, patient_vorname, patient_gebdat, patient_ort\n",
    "  FROM d_patient\n",
    " WHERE patient_vorname LIKE 'Jon%'\n",
    " LIMIT 10"
   ]
  },
  {
   "cell_type": "markdown",
   "metadata": {},
   "source": [
    "*Nur Patienten auslesen, die im Jahr 1984 geboren sind:*"
   ]
  },
  {
   "cell_type": "code",
   "execution_count": null,
   "metadata": {
    "id": "9-5PZQprYWyj"
   },
   "outputs": [],
   "source": [
    "%%sql $db_url_reporting\n",
    "SELECT patient_nachname, patient_vorname, patient_gebdat, patient_ort\n",
    "  FROM d_patient\n",
    " WHERE SUBSTR(patient_gebdat, 1, 4) = '1984'\n",
    " LIMIT 10"
   ]
  },
  {
   "cell_type": "markdown",
   "metadata": {
    "id": "8YDVUBoUYhuF"
   },
   "source": [
    "### Bedingen miteinander kombinieren\n",
    "\n",
    "Kriterien in der `WHERE`-Klausel können mit Bool'scher Logik (`AND, OR, NOT`) verbunden und bei Bedarf geklammert werden. Besonders bei Kombination von `AND` und `OR` muss in der Regel geklammert werden, da `AND` \"enger bindet\" und in der Regel unerwünschte Kombinationen von Kriterien angewendet werden"
   ]
  },
  {
   "cell_type": "markdown",
   "metadata": {},
   "source": [
    "*Nur Patienten auslesen, die im Jahr 1984 geboren sind und aus Bielefeld kommen:*"
   ]
  },
  {
   "cell_type": "code",
   "execution_count": null,
   "metadata": {
    "id": "RRJdgoTEYh5P"
   },
   "outputs": [],
   "source": [
    "%%sql $db_url_reporting\n",
    "SELECT patient_nachname, patient_vorname, patient_gebdat, patient_ort\n",
    "  FROM d_patient\n",
    " WHERE SUBSTR(patient_gebdat, 1, 4) = '1984'\n",
    "   AND patient_ort = 'Bielefeld'\n",
    " LIMIT 10"
   ]
  },
  {
   "cell_type": "markdown",
   "metadata": {},
   "source": [
    "*Nur Patienten auslesen, aus Bielefeld kommen und 1984 geboren sind oder aus Mannheim kommen und 1990 geboren sind (=> da AND enger bindet als OR, wird hier richtig ausgewertet):*"
   ]
  },
  {
   "cell_type": "code",
   "execution_count": null,
   "metadata": {
    "id": "kUXJntieZGPI"
   },
   "outputs": [],
   "source": [
    "%%sql $db_url_reporting\n",
    "SELECT patient_nachname, patient_vorname, patient_gebdat, patient_ort, patient_geschlecht\n",
    "  FROM d_patient\n",
    " WHERE patient_ort = 'Bielefeld'\n",
    "   AND SUBSTR(patient_gebdat, 1, 4) = '1984'\n",
    "    OR patient_ort = 'Mannheim'\n",
    "   AND SUBSTR(patient_gebdat, 1, 4) = '1990'\n",
    " LIMIT 10"
   ]
  },
  {
   "cell_type": "markdown",
   "metadata": {},
   "source": [
    "*Nur Patienten auslesen, aus Bielefeld kommen und 1984 oder 1990 geboren sind\n",
    "(=> ohne Klammerung ist das Ergebnis falsch, da das Kriterium \"Geburtsjahr=1990\" unabhängig\n",
    "vom Kriterium \"Ort=Bielefeld\" angewendet wird (unerwartet werden auch Patienten aus Mannheim ausgegeben))*"
   ]
  },
  {
   "cell_type": "code",
   "execution_count": null,
   "metadata": {
    "id": "q_xPi7zEaAAt"
   },
   "outputs": [],
   "source": [
    "%%sql $db_url_reporting\n",
    "SELECT patient_nachname, patient_vorname, patient_gebdat, patient_ort, patient_geschlecht\n",
    "  FROM d_patient\n",
    " WHERE patient_ort = 'Bielefeld'\n",
    "   AND SUBSTR(patient_gebdat, 1, 4) = '1984'\n",
    "    OR SUBSTR(patient_gebdat, 1, 4) = '1990'"
   ]
  },
  {
   "cell_type": "markdown",
   "metadata": {},
   "source": [
    "*Nur Patienten auslesen, aus Bielefeld kommen und 1984 oder 1990 geboren sind\n",
    "(=> Mit Klammerung werden beide Varianten für das Geburstjahr gemeinsam abgefragt und dann mit dem Ort verknüpft\n",
    "(Ausgabe nur von Bielefelder Patienten aus beiden Geburtsjahren))*"
   ]
  },
  {
   "cell_type": "code",
   "execution_count": null,
   "metadata": {
    "id": "g_-e1La2a10M"
   },
   "outputs": [],
   "source": [
    "%%sql $db_url_reporting\n",
    "SELECT patient_nachname, patient_vorname, patient_gebdat, patient_ort, patient_geschlecht\n",
    "  FROM d_patient\n",
    " WHERE patient_ort = 'Bielefeld'\n",
    "   AND (   SUBSTR(patient_gebdat, 1, 4) = '1984'\n",
    "        OR SUBSTR(patient_gebdat, 1, 4) = '1990')"
   ]
  },
  {
   "cell_type": "markdown",
   "metadata": {
    "id": "UMFJLrbETVWl"
   },
   "source": [
    "### Eindeutige Datensätze auslesen\n",
    "\n",
    "Mit dem `DISTINCT`-Keyword werden identische Datensätze zusammenführt, so dass nur noch eindeutige Datensätze ausgegeben werden. Das ist z.B. dann hilfreich, wenn für eine Spalte eine Liste der darin genutzten Ausprägungen benötigt wird."
   ]
  },
  {
   "cell_type": "markdown",
   "metadata": {
    "id": "3ud0S2SPJ_Ge"
   },
   "source": [
    "### Datensätze sortieren\n",
    "\n",
    "Mit der `ORDER BY`-Klausel am Ende eines SQL-Statements (aber vor einer möglichen `LIMIT`-Klausel) können die abgefragten Datensätze sortiert werden.\n",
    "\n",
    "Es kann dabei nach einer oder mehreren Spalten sowie auch nach abgeleiteten (z.B. berechneten oder aggregierten) Werten sortiert werden. Die Sortierung kann mit dem `DESC`-Keyword auch absteigend erfolgen. Je nach Datenbank ist es möglich, Werte alternativ zum Spaltennamen auch über vergebene Aliase oder die Reihenfolge der Spalten im `SELECT`-Abschnitt anzusprechen. Bei manchen Datenbanken müssen berechnete oder aggregierte Spalten in der `ORDER BY`-Klausel explizit wiederholt werden, wenn sie nicht über die vergebenen Aliase ansprechbar sind."
   ]
  },
  {
   "cell_type": "markdown",
   "metadata": {},
   "source": [
    "*Fallarten absteigend alphabetisch sortiert ausgeben:*"
   ]
  },
  {
   "cell_type": "code",
   "execution_count": null,
   "metadata": {
    "id": "5pb7gAssJ_cJ"
   },
   "outputs": [],
   "source": [
    "%%sql $db_url_reporting\n",
    "SELECT *\n",
    "  FROM d_fallart\n",
    " ORDER BY fallart_name DESC"
   ]
  },
  {
   "cell_type": "markdown",
   "metadata": {},
   "source": [
    "*Eindeutige Ausprägungen der Spalte patient_geschlecht in der Tabelle D_PATIENT auslesen:*"
   ]
  },
  {
   "cell_type": "code",
   "execution_count": null,
   "metadata": {
    "id": "7VuJlLIvTViT"
   },
   "outputs": [],
   "source": [
    "%%sql $db_url_reporting\n",
    "SELECT DISTINCT\n",
    "       patient_geschlecht\n",
    "  FROM d_patient"
   ]
  },
  {
   "cell_type": "markdown",
   "metadata": {
    "id": "P74YTT46bICQ"
   },
   "source": [
    "## Gruppieren und aggregieren von Tabelleninhalten\n",
    "\n",
    "Mit der `GROUP BY`-Klausel können Spalten angegeben werden, die als Aggregationsebene genutzt werden sollen. Es muss dann immer auch eine Aggregatfunktion in der `SELECT`-Klausel der Abfrage angegeben werden. Wenn keine Aggregationsebene angegeben wird, wendet die Datenbank die Aggregatfunktionen auf die ganze Tabelle an.\n",
    "\n",
    "Häufig verwendete Aggregatfunktionen sind:\n",
    "* `COUNT(*)`: zählt die Anzahl der Datensätze innerhalb der Aggregationgsebene\n",
    "* `COUNT(DISTINCT <Spalte>)`: Anzahl eindeutiger Ausprägungen in der angegebenen Spalte ermitteln\n",
    "* `SUM(<Spalte>)`: summiert eine numerische Spalte auf\n",
    "* `AVG(<Spalte>)`: bildet den Mittelwert einer numerischen Spalte innerhalb der Aggregationsebene\n",
    "* `MIN(<Spalte)`: gibt den kleinsten Wert einer Spalte innerhalb der Aggregationsebene aus (bei Texten der an den Anfang sortierte)\n",
    "* `MAX(<Spalte>)`: gibt den größten Wert einer Spalte innerhalb der Aggregationsebene aus (bei Texten der ans Ende sortierte)\n",
    "\n",
    "Mit der `AS`-Klausel können Spalten zur Laufzeit der Abfrage umbenannt werden. Das macht besonders bei den Aggregatfunktionen Sinn, da sie berechnete Werte sind und so keinen eigenen Namen haben (die Datenbank setzt dann z.B. die Aggregatfunktion selbst als Namen ein).\n",
    "\n",
    "* `SELECT COUNT(*) AS patient_count FROM d_patient`: liefert eine neue Spalte \"patient_count\", die die Gesamtzahl der Patienten enthält.\n",
    "\n",
    "Häufiger Fehler: alle in einer solchen Abfrage nicht aggregierten Spalten *müssen* in der `GROUP BY`-Klausel aufgeführt werden, sonst kann das Statement nicht ausgeführt werden."
   ]
  },
  {
   "cell_type": "markdown",
   "metadata": {
    "id": "8JCsab0aUBTD"
   },
   "source": [
    "### Datensätze aggregieren"
   ]
  },
  {
   "cell_type": "markdown",
   "metadata": {},
   "source": [
    "*Gesamtanzahl der Behandlungsfälle ausgeben:*"
   ]
  },
  {
   "cell_type": "code",
   "execution_count": null,
   "metadata": {
    "id": "b1F3bhOgcHra"
   },
   "outputs": [],
   "source": [
    "%%sql $db_url_reporting\n",
    "SELECT COUNT(*) AS fall_count\n",
    "  FROM f_faelle"
   ]
  },
  {
   "cell_type": "markdown",
   "metadata": {},
   "source": [
    "*Anzahl der eindeutigen Patienten-IDs in der Falltabelle ermitteln:*"
   ]
  },
  {
   "cell_type": "code",
   "execution_count": null,
   "metadata": {
    "id": "M7k9Y_W6UZWB"
   },
   "outputs": [],
   "source": [
    "%%sql $db_url_reporting\n",
    "SELECT COUNT(DISTINCT patient_id) AS patient_count\n",
    "  FROM f_faelle"
   ]
  },
  {
   "cell_type": "markdown",
   "metadata": {},
   "source": [
    "*Fallarten mit Fallzahl, mittlerer Liegedauer und Gesamterlös ausgeben:*"
   ]
  },
  {
   "cell_type": "code",
   "execution_count": null,
   "metadata": {
    "id": "VYzZkW42bINw"
   },
   "outputs": [],
   "source": [
    "%%sql $db_url_reporting\n",
    "SELECT fallart_id,\n",
    "       COUNT(*)                  AS fallzahl,\n",
    "       AVG(liegedauer_tage)      AS mittlere_liegedauer,\n",
    "       SUM(erloes_fallpauschale) AS gesamterloes\n",
    "  FROM f_faelle\n",
    " GROUP BY fallart_id"
   ]
  },
  {
   "cell_type": "markdown",
   "metadata": {
    "id": "q03tszPfeKYW"
   },
   "source": [
    "### Filterung bei Aggregatfunktionen\n",
    "\n",
    "Bei Aggregatfunktionen können während zwei verschiedenen Phasen der Abfrage Filterkriterien angewendet werden:\n",
    "* die `WHERE`-Klausel wird auf die \"Rohdaten\" vor der Aggregation angewendet. Nur Datensätze, die die Filterkriterien erfüllen, werden bei der Aggregation einbezogen\n",
    "* die `HAVING`-Klausel wird auf die bereits aggregierten Daten angewendet. So können Kriterien angewendet werden, die sich erst aus der Aggregation ergeben\n",
    "\n",
    "Die `WHERE`-Klausel steht entsprechend vor der `GROUP BY`-Klausel, die `HAVING`-Klausel danach.\n",
    "\n",
    "In der `HAVING`-Klausel muss die Aggregatfunktion in der Regel noch einmal explizit wiederholt werden, die Datenbank kann hier in der Regel nicht den vorher mit `AS` gesetzten Alias verwenden."
   ]
  },
  {
   "cell_type": "markdown",
   "metadata": {},
   "source": [
    "*Fallarten mit Fallzahl, mittlerer Liegedauer und Gesamterlös ausgeben, aber gefiltert:*\n",
    "* *nur Fälle einbeziehen, die eine Liegedauer über 1 Tag hatten*\n",
    "* *nur aggregierte Daten ausgeben, deren Fallzahl (pro Fallart) über 10 liegt*"
   ]
  },
  {
   "cell_type": "code",
   "execution_count": null,
   "metadata": {
    "id": "3P_oMBs5dZWS"
   },
   "outputs": [],
   "source": [
    "%%sql $db_url_reporting\n",
    "SELECT fallart_id,\n",
    "       COUNT(*)                  AS fallzahl,\n",
    "       AVG(liegedauer_tage)      AS mittlere_liegedauer,\n",
    "       SUM(erloes_fallpauschale) AS gesamterloes\n",
    "  FROM f_faelle\n",
    " WHERE liegedauer_tage > 1\n",
    " GROUP BY fallart_id\n",
    "HAVING COUNT(*) > 10"
   ]
  },
  {
   "cell_type": "markdown",
   "metadata": {
    "id": "C3DfPcwkUrR8"
   },
   "source": [
    "## Abfragen über mehrere Tabellen\n",
    "\n",
    "Die Stärke relationaler Datenbanken liegt in der Möglichkeit, Tabellen über Primär- & Fremdschlüsselbeziehungen miteinander zu verknüpfen und gemeinsam abzufragen. Mit Hilfe der `JOIN`-Klausel können 2 oder mehr Tabellen miteinander verbunden werden. Hierbei müssen jeweils Kriterien angegeben werden, anhand derer die jeweils zusammengehörigen Datensätze erkannt werden können (typischerweise Primär- & Fremdschlüssel identischen Inhalts beider Tabellen).\n",
    "\n",
    "Da es bei den in JOINs beteiligten Tabellen häufig identisch benannte Spalten gibt (z.B. die Spalte, über die der JOIN erfolgt), ist es in der Regel nötig, die Spalten durch Voranstellen des jeweiligen Tabellennamens zu qualifizieren (eindeutig zu machen). Da die Tabellennamen häufig lang sind, bietet es sich an, einen kurzen Alias für die Tabelle zu definieren, der statt des vollständigen Namens präfixiert werden kann.\n",
    "\n",
    "Ein vollständiges `SELECT`-Statement mit `JOIN` sieht dann wie folgt aus:\n",
    "\n",
    "`SELECT tb1.spalte1,\n",
    "        tb2.spalte2\n",
    "   FROM tabelle1 tb1\n",
    "   JOIN tabelle2 tb2 ON tb1.spalte1 = tb2.spalte1`\n",
    "\n",
    "\"tb1\" und \"tb2\" sind hierbei die Aliasnamen der beiden Tabellen.\n",
    "\n",
    "Caveats:\n",
    "* JOIN-Operationen können bei großen Tabellen sehr zeitaufwändig sein und große Last auf der Datenbank verursachen. Es sollte geprüft werden, ob z.B. Indizes auf den für JOINs verwendeten Spalten die Abfragen beschleunigen können. Viele Datenbanken bieten Befehle an, mit denen die Abfragestrategie der Datenbank nachvollzogen und Optimierungsmöglichkeiten erkannt werden können (für SQLite ÈXPLAIN QUERY PLAN`).\n",
    "* Es sind immer JOIN-Kriterien zwischen den beteiligten Tabellen notwendig. Wenn zwei Tabellen ohne JOIN-Kriterien verbunden werden, entsteht ein *cartesian join*, d.h. die Datenbank verknüpft (mangels definierter Kriterien) einfach jeden Datensatz der ersten Tabelle mit allen Datensätzen der zweiten Tabelle. Das ist bis auf in seltenen Fällen unerwünscht.\n",
    "* JOINs werden von der Datenbanken nacheinander abgearbeitet. JOIN-Kriterien müssen dabei immer nur von einer Tabelle zur \"nächsten\" angegeben werden. Es ist nicht nötig, alle Tabellen (\"kreuz und quer\") über Kriterien miteinander zu verbinden. Häufig gibt es tatsächlich auch nur zwischen jeweils \"benachbarten\" Tabellen passende Primär- & Fremdschlüssel (z.B. von der Patienten- auf die Falltabelle und von dort aus zur Diagnosetabelle, aber nicht zwischen der Diagnose- und Patiententabelle)."
   ]
  },
  {
   "cell_type": "markdown",
   "metadata": {
    "id": "09uLxupAYB7o"
   },
   "source": [
    "### INNER JOIN: Schnittmenge von Tabellen bilden\n",
    "\n",
    "Standardfall ist der `INNER JOIN`: hierbei wird die Schnittmenge der beteiligten Tabellen gebildet, also nur für Datensätze, die beiden Tabellen identische Ausprägungen der für den JOIN verwendeten Spalten haben.\n",
    "\n",
    "Im folgenden Beispiel werden die nicht sprechenden Fallart-IDs aus der Faktentabelle `F_FAELLE` um die Bezeichner aus der Dimensionstabelle `D_FALLART` ergänzt. Das Datenmodell sieht hier vor, dass es für jede verwendete Fallart-ID auch eine Entsprechung in der Dimensionstabelle gibt. Der INNER JOIN beider Tabellen sollte also alle Datensätze der Falltabelle einbeziehen."
   ]
  },
  {
   "cell_type": "markdown",
   "metadata": {},
   "source": [
    "*Fallarten mit Fallzahl, mittlerer Liegedauer und Gesamterlös ausgeben\n",
    "(=> hier ergänzt um Text-Bezeichner der Fallart aus der zugehörigen Dimension):*"
   ]
  },
  {
   "cell_type": "code",
   "execution_count": null,
   "metadata": {
    "id": "f9ZbXQOnUsaa"
   },
   "outputs": [],
   "source": [
    "%%sql $db_url_reporting\n",
    "SELECT fal.fallart_id,\n",
    "       frt.fallart_name,\n",
    "       COUNT(*)                      AS fallzahl,\n",
    "       AVG(fal.liegedauer_tage)      AS mittlere_liegedauer,\n",
    "       SUM(fal.erloes_fallpauschale) AS gesamterloes\n",
    "  FROM f_faelle  fal\n",
    "  JOIN d_fallart frt ON fal.fallart_id = frt.fallart_id\n",
    " GROUP BY fal.fallart_id"
   ]
  },
  {
   "cell_type": "markdown",
   "metadata": {
    "id": "9zhGREozZpJG"
   },
   "source": [
    "### OUTER JOINs: Datensätze einbeziehen, für die es keine Entsprechung in beiden Tabellen gibt\n",
    "\n",
    "In manchen Fällen ist es notwendig, auch Datensätze abzufragen, für die in der verbundenen Tabelle keine Daten vorliegen. Denkbar ist z.B. eine Patientenliste mit Hauptdiagnosen, die auch Patienten ausgibt, für die (noch) keine Hauptdiagnose dokumentiert wurde. Ggf. interessiert man sich auch *nur* für die Einträge ohne Bezug, z.B. um eine Arbeitsliste der noch nachzudokumentierenden Hauptdiagnosen zu bekommen.\n",
    "\n",
    "Auch bei OUTER JOINs werden die Beziehungen nacheinander \"von links nach rechts\" abgearbeitet. Ein \"LEFT OUTER JOIN\" bezieht dabei alle Datensätze der \"linken\" Tabelle ein, und von der rechten nur die mit Bezug über die für den JOIN angegebenen Spalten. Der \"RIGHT OUTER JOIN\" funktioniert entsprechend umgekehrt und liefert alle Datensätze der \"rechten\" Tabelle sowie die passenden Datensätze der linken. Da es hierbei nur auf die Reihenfolge der Tabellen in der `FROM`-Klausel ankommt, beschränken sich manche Datenbanken (u.a. SQLite) auf den LEFT JOIN und überlassen den Nutzern, die Tabellen in die benötigte Reihenfolge zu bringen. Spalten, die in der \"OUTER\" hinzugezogenen Tabelle keine Entsprechung haben, werden als NULL-Werte zurückgegeben.\n",
    "\n",
    "Beim FULL OUTER JOIN werden alle Datensätze beider Tabellen ausgegeben.\n",
    "\n",
    "Caveat:\n",
    "* Filterkriterien in der `WHERE`-Klausel, die auf Spalten der per OUTER JOIN verbundenen Tabelle gesetzt werden, können nur für Datensätze überprüft werden, die in dieser Tabelle auch befüllt werden. Da für Datensätze ohne Einträge in der verbundenen Tabelle nur NULL-Werte geliefert werden, schlagen die Überprüfungen fehl und Datensätze werden unerwartet ausgefiltert. Ein Workaround besteht darin, die Kriterien mit in die JOIN-Kriterien zu schreiben. Datensätze werden dann vor dem JOIN gefiltert, so dass Einträge ohne Verbindung erhalten bleiben. Einträge die diese Filterkriterien nicht erfüllen, werden natürlich weiterhin herausgefiltert (erscheinen dann aber mit NULL-Werten, obwohl sie in der verbundenen Tabelle enthalten waren)."
   ]
  },
  {
   "cell_type": "markdown",
   "metadata": {},
   "source": [
    "*Fälle mit Bezeichnern für ihre Hauptdiagnosen ausgeben:*\n",
    "* *hierzu wird die Dimensionstabelle D_DIAGNOSE per LEFT JOIN hinzugefügt*\n",
    "* *Fälle ohne Hauptdiagnose werden hierbei weiterhin ausgegeben, für den Bezeichner der Diagnose wird aber NULL geliefert (hier im Jupyter Notebook als \"None\" angezeigt)*"
   ]
  },
  {
   "cell_type": "code",
   "execution_count": null,
   "metadata": {
    "id": "90HFlF3AZpTX"
   },
   "outputs": [],
   "source": [
    "%%sql $db_url_reporting\n",
    "SELECT fal.fall_id,\n",
    "       fal.hauptdiagnose_snomed_id,\n",
    "       dkt.snomed_name\n",
    "  FROM      f_faelle fal\n",
    "  LEFT JOIN d_diagnose dkt ON fal.hauptdiagnose_snomed_id = dkt.snomed_id\n",
    " LIMIT 10"
   ]
  },
  {
   "cell_type": "markdown",
   "metadata": {},
   "source": [
    "*Fälle mit Bezeichnern für ihre Hauptdiagnosen ausgeben*\n",
    "* *hier per Kriterium in der WHERE-Klausel gefiltert auf Diagnosen, die mit dem Wort 'Viral' beginnen*\n",
    "\n",
    "*=> unerwünschterweise werden jetzt aber alle Fälle ausgeschlossen, für die keine Hauptdiagnose vorliegt, da das Filterkriterium mangels Daten in der verbundenen Tabelle nicht erfüllt werden kann*"
   ]
  },
  {
   "cell_type": "code",
   "execution_count": null,
   "metadata": {
    "id": "dpqVhTaDcK6D"
   },
   "outputs": [],
   "source": [
    "%%sql $db_url_reporting\n",
    "SELECT fal.fall_id,\n",
    "       fal.hauptdiagnose_snomed_id,\n",
    "       dkt.snomed_name\n",
    "  FROM      f_faelle fal\n",
    "  LEFT JOIN d_diagnose dkt ON fal.hauptdiagnose_snomed_id = dkt.snomed_id\n",
    " WHERE dkt.snomed_name LIKE 'Viral%'\n",
    " LIMIT 10"
   ]
  },
  {
   "cell_type": "markdown",
   "metadata": {},
   "source": [
    "*Fälle mit Bezeichnern für ihre Hauptdiagnosen ausgeben*\n",
    "* *hier per Kriterium in der JOIN-Klausel gefiltert auf Diagnosen, die mit dem Wort 'Viral' beginnen*\n",
    "\n",
    "*=> es bleiben alle Fälle aus der Tabelle F_FAELLE erhalten, auch wenn keine Diagnose dokumentiert wurde. Fälle, bei denen eine andere Diagnose (ohne \"Viral\" am Anfang) dokumentiert wurde, erhalten NULL-Werte aus der Diagnosedimension*"
   ]
  },
  {
   "cell_type": "code",
   "execution_count": null,
   "metadata": {
    "id": "6ixSurlTQjGf"
   },
   "outputs": [],
   "source": [
    "%%sql $db_url_reporting\n",
    "SELECT fal.fall_id,\n",
    "       fal.hauptdiagnose_snomed_id,\n",
    "       dkt.snomed_name\n",
    "  FROM      f_faelle fal\n",
    "  LEFT JOIN d_diagnose dkt ON fal.hauptdiagnose_snomed_id = dkt.snomed_id\n",
    "                          AND dkt.snomed_name LIKE 'Viral%'\n",
    " LIMIT 10"
   ]
  },
  {
   "cell_type": "markdown",
   "metadata": {
    "id": "5G1Xo-SnVdDK"
   },
   "source": [
    "UNIONs: Mehrere Tabellen \"hintereinander\" zusammenfügen\n",
    "\n",
    "Während JOINs Tabellen \"horizontal\" verbinden, können mehrere Tabellen mit dem `UNION`-Statement \"vertikal\" hintereinander gestellt werden. `UNION` wird dabei nicht als Teil eines `SELECT`-Statements verwendet, sondern als Verbindung zwischen zwei oder mehr `SELECT`-Statements.\n",
    "\n",
    "Die Ergebnisse der SELECT-Statements müssen dazu identische Spaltennamen und -datentypen haben.\n",
    "\n",
    "Das `UNION`-Statement führt im Regelfall Datensätze, die mehrfach vorkommen (egal ob aus einer Tabelle oder über beide hinweg) zusammen, so wie es ein `DISTINCT`-Keyword in einem `SELECT`-Statement tun würde. Wenn alle Datensätze beider Tabellen benötigt werden, muss das `UNION ALL`-Statement verwendet werden."
   ]
  },
  {
   "cell_type": "markdown",
   "metadata": {},
   "source": [
    "*Datensätze für Diagnosen mit dem Wort \"bronchitis\" und \"diabetes\" zunächst getrennt\n",
    "abfragen und dann über ein UNION-Statement zusammenfügen:*"
   ]
  },
  {
   "cell_type": "code",
   "execution_count": null,
   "metadata": {
    "id": "HzQ4wPXMVdMm"
   },
   "outputs": [],
   "source": [
    "%%sql $db_url_reporting\n",
    "\n",
    "SELECT *\n",
    "  FROM d_diagnose\n",
    " WHERE snomed_name LIKE '%bronchitis%'\n",
    "\n",
    "UNION\n",
    "\n",
    "SELECT *\n",
    "  FROM d_diagnose\n",
    " WHERE snomed_name LIKE '%diabetes%'"
   ]
  }
 ],
 "metadata": {
  "colab": {
   "authorship_tag": "ABX9TyPbWdKZDXvDiaK4vG2Xy95d",
   "provenance": [
    {
     "file_id": "1BKCcgS8zssyHgOmY-p6uD5JtTzI63Jlb",
     "timestamp": 1715515667455
    },
    {
     "file_id": "https://github.com/fau-lmi/lct-ehealth-datawarehouse/blob/main/01-01-Extraktion-Demo.ipynb",
     "timestamp": 1714911186628
    },
    {
     "file_id": "1BL6fz2-jOCEmlbHL_LUVxhtHzK709prp",
     "timestamp": 1714904625208
    }
   ],
   "toc_visible": true
  },
  "kernelspec": {
   "display_name": "Python (venv)",
   "language": "python",
   "name": "venv"
  },
  "language_info": {
   "codemirror_mode": {
    "name": "ipython",
    "version": 3
   },
   "file_extension": ".py",
   "mimetype": "text/x-python",
   "name": "python",
   "nbconvert_exporter": "python",
   "pygments_lexer": "ipython3",
   "version": "3.13.2"
  }
 },
 "nbformat": 4,
 "nbformat_minor": 4
}
