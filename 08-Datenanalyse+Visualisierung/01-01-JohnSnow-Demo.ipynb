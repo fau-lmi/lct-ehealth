{
 "cells": [
  {
   "cell_type": "markdown",
   "metadata": {
    "id": "SvxhKbdnO7j3"
   },
   "source": [
    "# 01-01 John Snow-Demo\n",
    "\n",
    "## Hinweise zur Übung\n",
    "\n",
    "Ziel dieser Demo ist eine Reproduktion der klassischen Analyse von Cholera-Daten durch John Snow in 1854. Der Datensatz ist frei verfügbar und wird hier schrittweise mit Python geladen, aufbereitet und visualisiert."
   ]
  },
  {
   "cell_type": "markdown",
   "metadata": {
    "id": "bbsb3U9UkAl1"
   },
   "source": [
    "## Konfiguration des Notebooks"
   ]
  },
  {
   "cell_type": "code",
   "execution_count": null,
   "metadata": {
    "id": "1D0zfQ-IzSGk"
   },
   "outputs": [],
   "source": [
    "# Ggf. fehlende Pakete installieren\n",
    "!pip install --quiet pandas altair folium"
   ]
  },
  {
   "cell_type": "code",
   "execution_count": null,
   "metadata": {
    "id": "44KM1u1Zzn3-"
   },
   "outputs": [],
   "source": [
    "import os\n",
    "import sys\n",
    "import pandas as pd\n",
    "import altair as alt\n",
    "import folium"
   ]
  },
  {
   "cell_type": "code",
   "execution_count": null,
   "metadata": {
    "id": "MP1zDb_s0-rq"
   },
   "outputs": [],
   "source": [
    "# Konfiguration\n",
    "base_url_quellen = \"https://raw.githubusercontent.com/fau-lmi/lct-ehealth/main/08-Datenanalyse+Visualisierung/data\""
   ]
  },
  {
   "cell_type": "markdown",
   "metadata": {
    "id": "mfEtqN2sne-F"
   },
   "source": [
    "## Rohdaten laden\n",
    "\n",
    "Der vorliegende Datensatz enthält 3 Tabellen:\n",
    "* `cholera_dates.csv`: Anzahl von Erkrankungen sowie Todesfällen pro Tag im Verlauf der Epidemie\n",
    "  * date: Datum im Format YYYY-MM-DD\n",
    "  * attacks: Anzahl der an diesem Datum neu an Cholera erkrankten\n",
    "  * deaths: Anzahl der an diesem Datum an Cholera verstorbenen\n",
    "* `cholera_deaths.csv`: Anzahl von Todesfällen zu den jeweiligen Geokoordinaten\n",
    "  * fid: laufende Nummer der Adresse\n",
    "  * deaths: Anzahl Cholera-Todesfälle an diesem Eintrag\n",
    "  * lon: geographische Länge der Adresse\n",
    "  * lat: geographische Breite der Adresse\n",
    "* `water_pumps.csv': Orte von Wasserpumpen in London\n",
    "  * fid: laufende Nummer der Adresse\n",
    "  * lon: geographische Länge der Adresse\n",
    "  * lat: geographische Breite der Adresse\n",
    "\n",
    "Die Rohdaten liegen im CSV-Format vor und werden mit der `read_csv()`-Funktion des `pandas`-Packages in Dataframes geladen.\n"
   ]
  },
  {
   "cell_type": "code",
   "execution_count": null,
   "metadata": {
    "id": "Z-euiRXBfaqK"
   },
   "outputs": [],
   "source": [
    "cholera_dates  = pd.read_csv(base_url_quellen + \"/JohnSnow/cholera_dates.csv\",  index_col=0, parse_dates=['date'])\n",
    "cholera_deaths = pd.read_csv(base_url_quellen + \"/JohnSnow/cholera_deaths.csv\", index_col=0)\n",
    "water_pumps    = pd.read_csv(base_url_quellen + \"/JohnSnow/water_pumps.csv\",    index_col=0)"
   ]
  },
  {
   "cell_type": "markdown",
   "metadata": {
    "id": "tasU2SM3XSCV"
   },
   "source": [
    "## Verlauf der Erkrankungen & Todesfälle plotten\n",
    "\n",
    "Ein Python-Package für die flexible Visualisierung von Daten ist Altair/Vega-Lite. Es ist vergleichbar zum R-Package ggplot (\"Grammar for Graphics\"). Altair unterstützt eine Vielzahl unterschiedlicher Diagrammtypen, die bei Bedarf auch miteinander kombiniert werden können.\n",
    "\n",
    "Im folgenden Chart sollen sowohl die Erkrankungen als auch die Todesfälle als Flächendiagramm (Area Charts) auf der Zeitachse dargestellt werden. Um beide Kennzahlen leicht auf einem gemeinsamen Diagramm darstellen zu können, werden die beiden Spalten `attacks` und `deaths` zunächst mit der `melt()`-Funktion aus einem \"wide\" in ein \"long\"-Format pivotiert."
   ]
  },
  {
   "cell_type": "code",
   "execution_count": null,
   "metadata": {
    "id": "GRrG_iesY7ar"
   },
   "outputs": [],
   "source": [
    "# Rohformat: Erkrankungen (attacks) und Todesfälle (deaths) liegen in separaten Spalten nebeneinander\n",
    "cholera_dates.sort_values(by=\"date\").head(5)"
   ]
  },
  {
   "cell_type": "code",
   "execution_count": null,
   "metadata": {
    "id": "9nlv8sIHZcuO"
   },
   "outputs": [],
   "source": [
    "# Pivotieren der Spalten in ein \"long\"-Format\n",
    "cholera_dates_long = cholera_dates.melt(id_vars='date', value_vars=['attacks', 'deaths'], var_name='type', value_name='count')\n",
    "\n",
    "# Ergebnis: die Attribute liegen jetzt in Zeilen untereinander\n",
    "cholera_dates_long.sort_values(by=[\"date\", \"type\"]).head(10)"
   ]
  },
  {
   "cell_type": "markdown",
   "metadata": {
    "id": "uSl2BVpKammk"
   },
   "source": [
    "Nachdem die Rohdaten pivotiert wurden, kann das Diagramm mit beiden Kennzahlen mit Altair generiert werden:"
   ]
  },
  {
   "cell_type": "code",
   "execution_count": null,
   "metadata": {
    "id": "aUov-62DLCyK"
   },
   "outputs": [],
   "source": [
    "# Flächendiagramm mit Altair erzeugen\n",
    "chart = alt.Chart(cholera_dates_long).mark_area(opacity=0.5).encode(\n",
    "    x='date:T',\n",
    "    y=alt.Y('count:Q', stack=None),\n",
    "    color=alt.Color('type:N', scale=alt.Scale(domain=['attacks', 'deaths'], range=['blue', 'red']))\n",
    ").interactive()\n",
    "\n",
    "# Diagramm ausgeben\n",
    "chart.display()"
   ]
  },
  {
   "cell_type": "markdown",
   "metadata": {
    "id": "nmsPjKRnb35o"
   },
   "source": [
    "## Geovisualisierung der Todesfälle\n",
    "\n",
    "John Snow hatte die Adressen der Todesfälle gesammelt und händisch auf einer Karte von London eingezeichnet. In unserem Datensatz liegen die Adressen in geocodierter Form mit Längen- & Breitengraden vor. Mit dem Python-Package `folium` können mit minimalem Aufwand interaktive Landkarten erzeugt und darauf beliebige Marker eingezeichnet werden.\n",
    "\n",
    "Die Karte muss zunächst mit einem gewünschten Mittelpunkt und Zoomfaktor (hier: Zentrum von London) angelegt werden. Anschließend wird über die Zeiten des Datensatzes iteriert und jeweils ein roter Kreis angelegt (Radius entspricht der Anzahl der dort registrierten Todesfälle). Mit dem letzten Befehl wird die Karte im Notebook ausgegeben."
   ]
  },
  {
   "cell_type": "code",
   "execution_count": null,
   "metadata": {
    "id": "ZuQSpinpOGIG"
   },
   "outputs": [],
   "source": [
    "map = folium.Map(location=[51.513578, -0.136722], zoom_start=16)\n",
    "for row in cholera_deaths.itertuples():\n",
    "    folium.CircleMarker(location=[row.LAT,row.LON], radius=row.DEATHS*1.5, color=\"red\", fill=True, Opacity=0.5).add_to(map)\n",
    "map"
   ]
  },
  {
   "cell_type": "markdown",
   "metadata": {
    "id": "OLXDw1fDeASf"
   },
   "source": [
    "## Erweiterung der Geovisualisierung um die Orte der Wasserpumpen\n",
    "\n",
    "John Snow ging davon aus, dass die Cholera-Fälle auf verseuchte Wasserpumpen zurückzuführen sind. Er trug deshalb in die Karte der Todesfälle zusätzlich die im gleichen Stadtteil liegenden Wasserpumpen ein.\n",
    "\n",
    "Wir nutzen hierzu die dritte CSV-Datei und ergänzen die Längen/Breitengrade der Pumpen als blaue Marker in der bestehenden Karte."
   ]
  },
  {
   "cell_type": "code",
   "execution_count": null,
   "metadata": {
    "id": "TKZMEekTUKcE"
   },
   "outputs": [],
   "source": [
    "for row in water_pumps.itertuples():\n",
    "    folium.Marker(location=[row.LAT,row.LON]).add_to(map)\n",
    "map"
   ]
  },
  {
   "cell_type": "markdown",
   "metadata": {
    "id": "rFzotjXPfiQy"
   },
   "source": [
    "Es ist klar erkennbar, dass der Cluster der Todesfälle rund um die Pumpe in der Broad Street (heute: Broadwick Street) liegt. Diese Pumpe nahm John Snow persönlich außer Betrieb, indem er den Griff abmontierte. So konnte der Cholera-Ausbruch in diesem Stadtteil unterbrochen werden."
   ]
  }
 ],
 "metadata": {
  "colab": {
   "authorship_tag": "ABX9TyPRvda8KQFH5X3h+TPmmh+Z",
   "provenance": [
    {
     "file_id": "https://github.com/fau-lmi/lct-ehealth-datawarehouse/blob/main/01-01-Extraktion-Demo.ipynb",
     "timestamp": 1714911186628
    },
    {
     "file_id": "1BL6fz2-jOCEmlbHL_LUVxhtHzK709prp",
     "timestamp": 1714904625208
    }
   ]
  },
  "kernelspec": {
   "display_name": "Python (venv)",
   "language": "python",
   "name": "venv"
  },
  "language_info": {
   "codemirror_mode": {
    "name": "ipython",
    "version": 3
   },
   "file_extension": ".py",
   "mimetype": "text/x-python",
   "name": "python",
   "nbconvert_exporter": "python",
   "pygments_lexer": "ipython3",
   "version": "3.13.2"
  }
 },
 "nbformat": 4,
 "nbformat_minor": 4
}
